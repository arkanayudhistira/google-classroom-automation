{
 "cells": [
  {
   "cell_type": "markdown",
   "metadata": {},
   "source": [
    "# Preparation"
   ]
  },
  {
   "cell_type": "markdown",
   "metadata": {},
   "source": [
    "Import required dependencies to use Google's API"
   ]
  },
  {
   "cell_type": "code",
   "execution_count": 1,
   "metadata": {},
   "outputs": [],
   "source": [
    "import os.path\n",
    "\n",
    "from google.auth.transport.requests import Request\n",
    "from google.oauth2.credentials import Credentials\n",
    "from google_auth_oauthlib.flow import InstalledAppFlow\n",
    "from googleapiclient.discovery import build\n",
    "from googleapiclient.errors import HttpError"
   ]
  },
  {
   "cell_type": "markdown",
   "metadata": {},
   "source": [
    "Define the accesses to be granted"
   ]
  },
  {
   "cell_type": "code",
   "execution_count": 2,
   "metadata": {},
   "outputs": [],
   "source": [
    "SCOPES = ['https://www.googleapis.com/auth/classroom.courses.readonly', # View your Google Classroom classes.\n",
    "          'https://www.googleapis.com/auth/classroom.rosters', # Manage your Google Classroom class rosters.\n",
    "          'https://www.googleapis.com/auth/classroom.profile.emails', # View the email addresses of people in your classes.\n",
    "          'https://www.googleapis.com/auth/classroom.topics', #See, create, and edit topics in Google Classroom.\n",
    "          'https://www.googleapis.com/auth/classroom.coursework.students', # Manage coursework and grades for students\n",
    "          'https://www.googleapis.com/auth/classroom.courseworkmaterials', # See, edit, and create classwork materials in Google Classroom.\n",
    "          'https://www.googleapis.com/auth/spreadsheets.readonly'] # See all your Google Sheets spreadsheets."
   ]
  },
  {
   "cell_type": "markdown",
   "metadata": {},
   "source": [
    "Use the provided `token.json` file to authenticate and access user data, if `token.json` is not available, it would be created from the provided `credentials.json` by logging into user's Google Account"
   ]
  },
  {
   "cell_type": "code",
   "execution_count": 3,
   "metadata": {},
   "outputs": [],
   "source": [
    "creds = None\n",
    "\n",
    "if os.path.exists('token.json'):\n",
    "    creds = Credentials.from_authorized_user_file('token.json', SCOPES)\n",
    "# If there are no (valid) credentials available, let the user log in.\n",
    "if not creds or not creds.valid:\n",
    "    if creds and creds.expired and creds.refresh_token:\n",
    "        creds.refresh(Request())\n",
    "    else:\n",
    "        flow = InstalledAppFlow.from_client_secrets_file(\n",
    "            'credentials.json', SCOPES)\n",
    "        creds = flow.run_local_server(port=0)\n",
    "    # Save the credentials for the next run\n",
    "    with open('token.json', 'w') as token:\n",
    "        token.write(creds.to_json())\n",
    "\n"
   ]
  },
  {
   "cell_type": "markdown",
   "metadata": {},
   "source": [
    "Call the Google Classroom API to access various methods with user's access from the credential that has been authenticated"
   ]
  },
  {
   "cell_type": "code",
   "execution_count": 4,
   "metadata": {},
   "outputs": [],
   "source": [
    "service = build('classroom', 'v1', credentials=creds)"
   ]
  },
  {
   "cell_type": "markdown",
   "metadata": {},
   "source": [
    "# Course\n",
    "In this section, the user is going to choose which Google Classroom Course that is going to be accessed"
   ]
  },
  {
   "cell_type": "markdown",
   "metadata": {},
   "source": [
    "Use the `courses().list()` method to show a list of the user's courses"
   ]
  },
  {
   "cell_type": "code",
   "execution_count": 5,
   "metadata": {},
   "outputs": [
    {
     "name": "stdout",
     "output_type": "stream",
     "text": [
      "Courses:\n",
      "- Dummy ML\n",
      "- Wizard Data Visualization\n",
      "- Kementerian BUMN\n",
      "- Automation\n",
      "- Wizard Data Analytics\n"
     ]
    }
   ],
   "source": [
    "results = service.courses().list(pageSize=5).execute()\n",
    "courses = results.get('courses', [])\n",
    "\n",
    "if not courses:\n",
    "    print('No courses found.')\n",
    "\n",
    "# Prints the names of the first 5 courses.\n",
    "print('Courses:')\n",
    "for course in courses:\n",
    "    print(f\"- {course['name']}\")"
   ]
  },
  {
   "cell_type": "markdown",
   "metadata": {},
   "source": [
    "Input the course name (**case-insensitive**) that is going to be accessed (Example: `wizard data visualization`). If the course was found, the course's `id` will be retrieved."
   ]
  },
  {
   "cell_type": "code",
   "execution_count": 6,
   "metadata": {},
   "outputs": [
    {
     "name": "stdout",
     "output_type": "stream",
     "text": [
      "Dummy ML found with ID 529458923369\n"
     ]
    }
   ],
   "source": [
    "course_input = input(\"Enter Course Name: \")\n",
    "course_lowercase = course_input.lower()\n",
    "course_id = None\n",
    "\n",
    "for course in courses:\n",
    "    if course_lowercase == course['name'].lower():\n",
    "        course_id = course['id']\n",
    "        break\n",
    "\n",
    "if course_id == None:\n",
    "    raise Exception(f\"{course_input} course not found\")\n",
    "\n",
    "else:\n",
    "    print(f'{course_input} found with ID {course_id}')"
   ]
  },
  {
   "cell_type": "markdown",
   "metadata": {},
   "source": [
    "# Topic\n",
    "In this section, the user is going to create new topics to group the courseworks and materials"
   ]
  },
  {
   "cell_type": "markdown",
   "metadata": {},
   "source": [
    "Define the topics names in a list"
   ]
  },
  {
   "cell_type": "code",
   "execution_count": 7,
   "metadata": {},
   "outputs": [],
   "source": [
    "topic_list = ['Capstone Project', 'Learning by Building', \n",
    "              'Quiz', 'Additional Assignment', 'Lecture Notes',\n",
    "              'Material', 'Administration Deck']"
   ]
  },
  {
   "cell_type": "markdown",
   "metadata": {},
   "source": [
    "Create the topics using `topics().create()` method, if the topic was already created, it would show `Requested entity already exists` error."
   ]
  },
  {
   "cell_type": "code",
   "execution_count": 8,
   "metadata": {},
   "outputs": [
    {
     "name": "stdout",
     "output_type": "stream",
     "text": [
      "Topic created: Capstone Project - 626685797091\n",
      "Topic created: Learning by Building - 626684307432\n",
      "Topic created: Quiz - 626684936065\n",
      "Topic created: Additional Assignment - 626684670179\n",
      "Topic created: Lecture Notes - 626685596678\n",
      "Topic created: Material - 626684735979\n",
      "Topic created: Administration Deck - 626683845119\n"
     ]
    }
   ],
   "source": [
    "try:\n",
    "  for name in topic_list:\n",
    "    topic = {\n",
    "        \"name\": name\n",
    "    }\n",
    "    response = service.courses().topics().create(\n",
    "      courseId=course_id,\n",
    "      body=topic).execute()\n",
    "\n",
    "    print('Topic created: {} - {}'.format(response['name'], response['topicId']))\n",
    "\n",
    "except HttpError as error:\n",
    "  print(f\"An error occurred: {error}\")"
   ]
  },
  {
   "cell_type": "markdown",
   "metadata": {},
   "source": [
    "Use the `topics().list()` method to show a list of the topics that have been created"
   ]
  },
  {
   "cell_type": "code",
   "execution_count": 9,
   "metadata": {},
   "outputs": [
    {
     "name": "stdout",
     "output_type": "stream",
     "text": [
      "Topics : \n",
      " - Administration Deck (626683845119)\n",
      " - Material (626684735979)\n",
      " - Lecture Notes (626685596678)\n",
      " - Additional Assignment (626684670179)\n",
      " - Quiz (626684936065)\n",
      " - Learning by Building (626684307432)\n",
      " - Capstone Project (626685797091)\n"
     ]
    }
   ],
   "source": [
    "topics = []\n",
    "\n",
    "response = service.courses().topics().list(\n",
    "    courseId=course_id).execute()\n",
    "topics.extend(response.get('topic', []))\n",
    "\n",
    "print('Topics : ')\n",
    "for topic in topics:\n",
    "    print(' - {} ({})'.format(topic['name'], topic['topicId']))"
   ]
  },
  {
   "cell_type": "markdown",
   "metadata": {},
   "source": [
    "# Administration Deck\n",
    "\n",
    "In the section, the user is going to post courseworks and materials that belongs to the topic `Administration Deck`"
   ]
  },
  {
   "cell_type": "markdown",
   "metadata": {},
   "source": [
    "To access the descriptions of each courseworks and materials, the user can use the `Classwork()` object from `assets.py` that store the material's descriptions as attribute."
   ]
  },
  {
   "cell_type": "code",
   "execution_count": 10,
   "metadata": {},
   "outputs": [],
   "source": [
    "from assets import Classwork\n",
    "\n",
    "description = Classwork()"
   ]
  },
  {
   "cell_type": "markdown",
   "metadata": {},
   "source": [
    "Retrieve the corresponding topic's id"
   ]
  },
  {
   "cell_type": "code",
   "execution_count": 11,
   "metadata": {},
   "outputs": [
    {
     "data": {
      "text/plain": [
       "{'courseId': '529458923369',\n",
       " 'topicId': '626683845119',\n",
       " 'name': 'Administration Deck',\n",
       " 'updateTime': '2023-09-29T11:54:59.190Z'}"
      ]
     },
     "execution_count": 11,
     "metadata": {},
     "output_type": "execute_result"
    }
   ],
   "source": [
    "for topic in topics:\n",
    "    if topic['name'] == 'Administration Deck':\n",
    "        topic_id = topic['topicId']\n",
    "        break \n",
    "\n",
    "topic"
   ]
  },
  {
   "cell_type": "markdown",
   "metadata": {},
   "source": [
    "Create the `Permohonan Sesi Mentoring` post"
   ]
  },
  {
   "cell_type": "code",
   "execution_count": 12,
   "metadata": {},
   "outputs": [
    {
     "name": "stdout",
     "output_type": "stream",
     "text": [
      "Material Permohonan Sesi Mentoring created\n"
     ]
    }
   ],
   "source": [
    "coursework = {\n",
    "    'title': 'Permohonan Sesi Mentoring',\n",
    "    'description': description.administration_deck['Permohonan Sesi Mentoring'],\n",
    "    'materials': [\n",
    "        {'link': {'url': 'http://bit.ly/mentoring-onsite?authuser=0'}},\n",
    "        {'link': {'url': 'https://github.com/teamalgoritma/community?authuser=0'}},\n",
    "        {'link': {'url': 'https://drive.google.com/file/d/1SuU3e8hg9jfMO25kWang1MIaaePa2x-Y/view?usp=drive_web&authuser=0'}},\n",
    "    ],\n",
    "    'topicId' : topic_id,\n",
    "    'state' : 'DRAFT'\n",
    "}\n",
    "coursework = service.courses().courseWorkMaterials().create(\n",
    "    courseId=course_id, body=coursework).execute()\n",
    "\n",
    "print(f\"Material {coursework.get('title')} created\")"
   ]
  },
  {
   "cell_type": "markdown",
   "metadata": {},
   "source": [
    "Create the `How to Ask Questions` post"
   ]
  },
  {
   "cell_type": "code",
   "execution_count": 13,
   "metadata": {},
   "outputs": [
    {
     "name": "stdout",
     "output_type": "stream",
     "text": [
      "Material How to Ask Questions created\n"
     ]
    }
   ],
   "source": [
    "coursework = {\n",
    "    'title': 'How to Ask Questions',\n",
    "    'description': description.administration_deck['How to Ask Questions'],\n",
    "    'materials': [\n",
    "        {'link': {'url': 'https://github.com/teamalgoritma/community?authuser=0'}},\n",
    "    ],\n",
    "    'topicId' : topic_id,\n",
    "    'state' : 'DRAFT'\n",
    "}\n",
    "coursework = service.courses().courseWorkMaterials().create(\n",
    "    courseId=course_id, body=coursework).execute()\n",
    "\n",
    "print(f\"Material {coursework.get('title')} created\")"
   ]
  },
  {
   "cell_type": "markdown",
   "metadata": {},
   "source": [
    "Create the `Administration Deck` post"
   ]
  },
  {
   "cell_type": "code",
   "execution_count": 14,
   "metadata": {},
   "outputs": [
    {
     "name": "stdout",
     "output_type": "stream",
     "text": [
      "Material Administration Deck created\n"
     ]
    }
   ],
   "source": [
    "coursework = {\n",
    "    'title': 'Administration Deck',\n",
    "    'description': description.administration_deck['Administration Deck'],\n",
    "    'materials': [\n",
    "        {'link': {'url': 'https://drive.google.com/file/d/1ivjryti41IekS55HSj43bC8TXLaZZrii/view?usp=drive_web&authuser=0'}},\n",
    "        {'link': {'url': 'https://drive.google.com/file/d/1vUG9v_Aie-aHW4U93FD7LKcjfxilHG5u/view?usp=drive_web&authuser=0'}}\n",
    "    ],\n",
    "    'topicId' : topic_id,\n",
    "    'state' : 'DRAFT'\n",
    "}\n",
    "coursework = service.courses().courseWorkMaterials().create(\n",
    "    courseId=course_id, body=coursework).execute()\n",
    "\n",
    "print(f\"Material {coursework.get('title')} created\")"
   ]
  },
  {
   "cell_type": "markdown",
   "metadata": {},
   "source": [
    "# Material\n",
    "In the section, the user is going to post courseworks and materials that belongs to the topic `Material`"
   ]
  },
  {
   "cell_type": "markdown",
   "metadata": {},
   "source": [
    "Retrieve the corresponding topic's id"
   ]
  },
  {
   "cell_type": "code",
   "execution_count": 15,
   "metadata": {},
   "outputs": [
    {
     "data": {
      "text/plain": [
       "{'courseId': '529458923369',\n",
       " 'topicId': '626684735979',\n",
       " 'name': 'Material',\n",
       " 'updateTime': '2023-09-29T11:54:57.685Z'}"
      ]
     },
     "execution_count": 15,
     "metadata": {},
     "output_type": "execute_result"
    }
   ],
   "source": [
    "for topic in topics:\n",
    "    if topic['name'] == 'Material':\n",
    "        topic_id = topic['topicId']\n",
    "        break \n",
    "\n",
    "topic"
   ]
  },
  {
   "cell_type": "markdown",
   "metadata": {},
   "source": [
    "Create the `6. M : Neural Network & Deep Learning (NN)` post"
   ]
  },
  {
   "cell_type": "code",
   "execution_count": 16,
   "metadata": {},
   "outputs": [
    {
     "name": "stdout",
     "output_type": "stream",
     "text": [
      "Material 6. M : Neural Network & Deep Learning (NN) created\n"
     ]
    }
   ],
   "source": [
    "coursework = {\n",
    "    'title': '6. M : Neural Network & Deep Learning (NN)',\n",
    "    'materials': [\n",
    "        {'link': {'url': 'https://bit.ly/nn_material'}},\n",
    "    ],\n",
    "    'topicId' : topic_id,\n",
    "    'state' : 'DRAFT'\n",
    "}\n",
    "coursework = service.courses().courseWorkMaterials().create(\n",
    "    courseId=course_id, body=coursework).execute()\n",
    "\n",
    "print(f\"Material {coursework.get('title')} created\")"
   ]
  },
  {
   "cell_type": "markdown",
   "metadata": {},
   "source": [
    "Create the `5. M : Time Series & Forecasting (TS)` post"
   ]
  },
  {
   "cell_type": "code",
   "execution_count": 17,
   "metadata": {},
   "outputs": [
    {
     "name": "stdout",
     "output_type": "stream",
     "text": [
      "Material 5. M : Time Series & Forecasting (TS) created\n"
     ]
    }
   ],
   "source": [
    "coursework = {\n",
    "    'title': '5. M : Time Series & Forecasting (TS)',\n",
    "    'materials': [\n",
    "        {'link': {'url': 'https://bit.ly/ts_material'}},\n",
    "    ],\n",
    "    'topicId' : topic_id,\n",
    "    'state' : 'DRAFT'\n",
    "}\n",
    "coursework = service.courses().courseWorkMaterials().create(\n",
    "    courseId=course_id, body=coursework).execute()\n",
    "\n",
    "print(f\"Material {coursework.get('title')} created\")"
   ]
  },
  {
   "cell_type": "markdown",
   "metadata": {},
   "source": [
    "Create the `4. M : Unsupervised Learning (UL)` post"
   ]
  },
  {
   "cell_type": "code",
   "execution_count": 18,
   "metadata": {},
   "outputs": [
    {
     "name": "stdout",
     "output_type": "stream",
     "text": [
      "Material 4. M : Unsupervised Learning (UL) created\n"
     ]
    }
   ],
   "source": [
    "coursework = {\n",
    "    'title': '4. M : Unsupervised Learning (UL)',\n",
    "    'materials': [\n",
    "        {'link': {'url': 'https://bit.ly/ul_material'}},\n",
    "    ],\n",
    "    'topicId' : topic_id,\n",
    "    'state' : 'DRAFT'\n",
    "}\n",
    "coursework = service.courses().courseWorkMaterials().create(\n",
    "    courseId=course_id, body=coursework).execute()\n",
    "\n",
    "print(f\"Material {coursework.get('title')} created\")"
   ]
  },
  {
   "cell_type": "markdown",
   "metadata": {},
   "source": [
    "Create the `3. M : Classification in Machine Learning II (C2)` post"
   ]
  },
  {
   "cell_type": "code",
   "execution_count": 19,
   "metadata": {},
   "outputs": [
    {
     "name": "stdout",
     "output_type": "stream",
     "text": [
      "Material 3. M : Classification in Machine Learning II (C2) created\n"
     ]
    }
   ],
   "source": [
    "coursework = {\n",
    "    'title': '3. M : Classification in Machine Learning II (C2)',\n",
    "    'materials': [\n",
    "        {'link': {'url': 'https://bit.ly/cm2_material'}},\n",
    "    ],\n",
    "    'topicId' : topic_id,\n",
    "    'state' : 'DRAFT'\n",
    "}\n",
    "coursework = service.courses().courseWorkMaterials().create(\n",
    "    courseId=course_id, body=coursework).execute()\n",
    "\n",
    "print(f\"Material {coursework.get('title')} created\")"
   ]
  },
  {
   "cell_type": "markdown",
   "metadata": {},
   "source": [
    "Create the `2. M : Classification in Machine Learning I (C1)` post"
   ]
  },
  {
   "cell_type": "code",
   "execution_count": 20,
   "metadata": {},
   "outputs": [
    {
     "name": "stdout",
     "output_type": "stream",
     "text": [
      "Material 2. M : Classification in Machine Learning I (C1) created\n"
     ]
    }
   ],
   "source": [
    "coursework = {\n",
    "    'title': '2. M : Classification in Machine Learning I (C1)',\n",
    "    'materials': [\n",
    "        {'link': {'url': 'https://bit.ly/cm1_material'}},\n",
    "    ],\n",
    "    'topicId' : topic_id,\n",
    "    'state' : 'DRAFT'\n",
    "}\n",
    "coursework = service.courses().courseWorkMaterials().create(\n",
    "    courseId=course_id, body=coursework).execute()\n",
    "\n",
    "print(f\"Material {coursework.get('title')} created\")"
   ]
  },
  {
   "cell_type": "markdown",
   "metadata": {},
   "source": [
    "Create the `1. M : Regression Model (RM)` post"
   ]
  },
  {
   "cell_type": "code",
   "execution_count": 21,
   "metadata": {},
   "outputs": [
    {
     "name": "stdout",
     "output_type": "stream",
     "text": [
      "Material 1. M : Regression Model (RM) created\n"
     ]
    }
   ],
   "source": [
    "coursework = {\n",
    "    'title': '1. M : Regression Model (RM)',\n",
    "    'materials': [\n",
    "        {'link': {'url': 'https://bit.ly/rm_material'}},\n",
    "    ],\n",
    "    'topicId' : topic_id,\n",
    "    'state' : 'DRAFT'\n",
    "}\n",
    "coursework = service.courses().courseWorkMaterials().create(\n",
    "    courseId=course_id, body=coursework).execute()\n",
    "\n",
    "print(f\"Material {coursework.get('title')} created\")"
   ]
  },
  {
   "cell_type": "markdown",
   "metadata": {},
   "source": [
    "# Quiz\n",
    "In the section, the user is going to post courseworks and materials that belongs to the topic `Quiz`"
   ]
  },
  {
   "cell_type": "markdown",
   "metadata": {},
   "source": [
    "Retrieve the corresponding topic's id"
   ]
  },
  {
   "cell_type": "code",
   "execution_count": 22,
   "metadata": {},
   "outputs": [
    {
     "data": {
      "text/plain": [
       "{'courseId': '529458923369',\n",
       " 'topicId': '626684936065',\n",
       " 'name': 'Quiz',\n",
       " 'updateTime': '2023-09-29T11:54:54.225Z'}"
      ]
     },
     "execution_count": 22,
     "metadata": {},
     "output_type": "execute_result"
    }
   ],
   "source": [
    "for topic in topics:\n",
    "    if topic['name'] == 'Quiz':\n",
    "        topic_id = topic['topicId']\n",
    "        break \n",
    "\n",
    "topic"
   ]
  },
  {
   "cell_type": "markdown",
   "metadata": {},
   "source": [
    "Create the `6. Q : Neural Network and Deep Learning (NN)` post"
   ]
  },
  {
   "cell_type": "code",
   "execution_count": 23,
   "metadata": {},
   "outputs": [
    {
     "name": "stdout",
     "output_type": "stream",
     "text": [
      "Assignment 6. Q : Neural Network and Deep Learning (NN) created\n"
     ]
    }
   ],
   "source": [
    "coursework = {\n",
    "    'title': '6. Q : Neural Network and Deep Learning (NN)',\n",
    "    'description': description.quiz['6. Q : Neural Network and Deep Learning (NN)'],\n",
    "    'materials': [\n",
    "        {'link': {'url': 'https://algoritmaonline.com/quizzes/neural-network-quiz/?authuser=0'}}\n",
    "    ],\n",
    "    'topicId' : topic_id,\n",
    "    'workType': 'ASSIGNMENT',\n",
    "    'maxPoints': 4,\n",
    "    'state' : 'DRAFT'\n",
    "}\n",
    "coursework = service.courses().courseWork().create(\n",
    "    courseId=course_id, body=coursework).execute()\n",
    "\n",
    "print(f\"Assignment {coursework.get('title')} created\")"
   ]
  },
  {
   "cell_type": "markdown",
   "metadata": {},
   "source": [
    "Create the `5. Q: Time Series & Forecasting (TSF)` post"
   ]
  },
  {
   "cell_type": "code",
   "execution_count": 24,
   "metadata": {},
   "outputs": [
    {
     "name": "stdout",
     "output_type": "stream",
     "text": [
      "Assignment 5. Q: Time Series & Forecasting (TSF) created\n"
     ]
    }
   ],
   "source": [
    "coursework = {\n",
    "    'title': '5. Q: Time Series & Forecasting (TSF)',\n",
    "    'description': description.quiz['5. Q: Time Series & Forecasting (TSF)'],\n",
    "    'materials': [\n",
    "        {'link': {'url': 'https://algoritmaonline.com/quizzes/time-series-quiz/?authuser=0'}}\n",
    "    ],\n",
    "    'topicId' : topic_id,\n",
    "    'workType': 'ASSIGNMENT',\n",
    "    'maxPoints': 4,\n",
    "    'state' : 'DRAFT'\n",
    "}\n",
    "coursework = service.courses().courseWork().create(\n",
    "    courseId=course_id, body=coursework).execute()\n",
    "\n",
    "print(f\"Assignment {coursework.get('title')} created\")"
   ]
  },
  {
   "cell_type": "markdown",
   "metadata": {},
   "source": [
    "Create the `4. Q: Unsupervised Learning (UL)` post"
   ]
  },
  {
   "cell_type": "code",
   "execution_count": 25,
   "metadata": {},
   "outputs": [
    {
     "name": "stdout",
     "output_type": "stream",
     "text": [
      "Assignment 4. Q: Unsupervised Learning (UL) created\n"
     ]
    }
   ],
   "source": [
    "coursework = {\n",
    "    'title': '4. Q: Unsupervised Learning (UL)',\n",
    "    'description': description.quiz['4. Q: Unsupervised Learning (UL)'],\n",
    "    'materials': [\n",
    "        {'link': {'url': 'https://algoritmaonline.com/courses/unsupervised-machine-learning/?authuser=0'}}\n",
    "    ],\n",
    "    'topicId' : topic_id,\n",
    "    'workType': 'ASSIGNMENT',\n",
    "    'maxPoints': 4,\n",
    "    'state' : 'DRAFT'\n",
    "}\n",
    "coursework = service.courses().courseWork().create(\n",
    "    courseId=course_id, body=coursework).execute()\n",
    "\n",
    "print(f\"Assignment {coursework.get('title')} created\")"
   ]
  },
  {
   "cell_type": "markdown",
   "metadata": {},
   "source": [
    "Create the `3. Q: Classification in Machine Learning II (C2)` post"
   ]
  },
  {
   "cell_type": "code",
   "execution_count": 26,
   "metadata": {},
   "outputs": [
    {
     "name": "stdout",
     "output_type": "stream",
     "text": [
      "Assignment 3. Q: Classification in Machine Learning II (C2) created\n"
     ]
    }
   ],
   "source": [
    "coursework = {\n",
    "    'title': '3. Q: Classification in Machine Learning II (C2)',\n",
    "    'description': description.quiz['3. Q: Classification in Machine Learning II (C2)'],\n",
    "    'materials': [\n",
    "        {'link': {'url': 'https://algoritmaonline.com/courses/machine-learning-classification-2/?authuser=0'}}\n",
    "    ],\n",
    "    'topicId' : topic_id,\n",
    "    'workType': 'ASSIGNMENT',\n",
    "    'maxPoints': 4,\n",
    "    'state' : 'DRAFT'\n",
    "}\n",
    "coursework = service.courses().courseWork().create(\n",
    "    courseId=course_id, body=coursework).execute()\n",
    "\n",
    "print(f\"Assignment {coursework.get('title')} created\")"
   ]
  },
  {
   "cell_type": "markdown",
   "metadata": {},
   "source": [
    "Create the `2. Q: Classification in Machine Learning I (C1)` post"
   ]
  },
  {
   "cell_type": "code",
   "execution_count": 27,
   "metadata": {},
   "outputs": [
    {
     "name": "stdout",
     "output_type": "stream",
     "text": [
      "Assignment 2. Q: Classification in Machine Learning I (C1) created\n"
     ]
    }
   ],
   "source": [
    "coursework = {\n",
    "    'title': '2. Q: Classification in Machine Learning I (C1)',\n",
    "    'description': description.quiz['2. Q: Classification in Machine Learning I (C1)'],\n",
    "    'materials': [\n",
    "        {'link': {'url': 'https://algoritmaonline.com/courses/machine-learning-classification-1/?authuser=0'}}\n",
    "    ],\n",
    "    'topicId' : topic_id,\n",
    "    'workType': 'ASSIGNMENT',\n",
    "    'maxPoints': 4,\n",
    "    'state' : 'DRAFT'\n",
    "}\n",
    "coursework = service.courses().courseWork().create(\n",
    "    courseId=course_id, body=coursework).execute()\n",
    "\n",
    "print(f\"Assignment {coursework.get('title')} created\")"
   ]
  },
  {
   "cell_type": "markdown",
   "metadata": {},
   "source": [
    "Create the `0. Q: Prerequisite Check` post"
   ]
  },
  {
   "cell_type": "code",
   "execution_count": 28,
   "metadata": {},
   "outputs": [
    {
     "name": "stdout",
     "output_type": "stream",
     "text": [
      "Assignment 1. Q: Regression Model (RM) created\n"
     ]
    }
   ],
   "source": [
    "coursework = {\n",
    "    'title': '1. Q: Regression Model (RM)',\n",
    "    'description': description.quiz['1. Q: Regression Model (RM)'],\n",
    "    'materials': [\n",
    "        {'link': {'url': 'https://algoritmaonline.com/courses/regression-models/?authuser=0'}}\n",
    "    ],\n",
    "    'topicId' : topic_id,\n",
    "    'workType': 'ASSIGNMENT',\n",
    "    'maxPoints': 4,\n",
    "    'state' : 'DRAFT'\n",
    "}\n",
    "coursework = service.courses().courseWork().create(\n",
    "    courseId=course_id, body=coursework).execute()\n",
    "\n",
    "print(f\"Assignment {coursework.get('title')} created\")"
   ]
  },
  {
   "cell_type": "markdown",
   "metadata": {},
   "source": [
    "# Learning by Building\n",
    "In the section, the user is going to post courseworks and materials that belongs to the topic `Learning by Building`"
   ]
  },
  {
   "cell_type": "markdown",
   "metadata": {},
   "source": [
    "Retrieve the corresponding topic's id"
   ]
  },
  {
   "cell_type": "code",
   "execution_count": 29,
   "metadata": {},
   "outputs": [
    {
     "data": {
      "text/plain": [
       "{'courseId': '529458923369',\n",
       " 'topicId': '626684307432',\n",
       " 'name': 'Learning by Building',\n",
       " 'updateTime': '2023-09-29T11:54:52.749Z'}"
      ]
     },
     "execution_count": 29,
     "metadata": {},
     "output_type": "execute_result"
    }
   ],
   "source": [
    "for topic in topics:\n",
    "    if topic['name'] == 'Learning by Building':\n",
    "        topic_id = topic['topicId']\n",
    "        break \n",
    "\n",
    "topic"
   ]
  },
  {
   "cell_type": "markdown",
   "metadata": {},
   "source": [
    "Create the `6: LBB: Neural Network & Deep Learning` post"
   ]
  },
  {
   "cell_type": "code",
   "execution_count": 30,
   "metadata": {},
   "outputs": [
    {
     "name": "stdout",
     "output_type": "stream",
     "text": [
      "Assignment 6: LBB: Neural Network & Deep Learning created\n"
     ]
    }
   ],
   "source": [
    "coursework = {\n",
    "    'title': '6: LBB: Neural Network & Deep Learning',\n",
    "    'description': description.lbb['6: LBB: Neural Network & Deep Learning'],\n",
    "    'topicId' : topic_id,\n",
    "    'workType': 'ASSIGNMENT',\n",
    "    'state' : 'DRAFT'\n",
    "}\n",
    "coursework = service.courses().courseWork().create(\n",
    "    courseId=course_id, body=coursework).execute()\n",
    "\n",
    "print(f\"Assignment {coursework.get('title')} created\")"
   ]
  },
  {
   "cell_type": "markdown",
   "metadata": {},
   "source": [
    "Create the `2. LBB: Data Visualization` post"
   ]
  },
  {
   "cell_type": "code",
   "execution_count": 31,
   "metadata": {},
   "outputs": [
    {
     "name": "stdout",
     "output_type": "stream",
     "text": [
      "Assignment 5. LBB: Time Series & Forecasting created\n"
     ]
    }
   ],
   "source": [
    "coursework = {\n",
    "    'title': '5. LBB: Time Series & Forecasting',\n",
    "    'description': description.lbb['5. LBB: Time Series & Forecasting'],\n",
    "    'topicId' : topic_id,\n",
    "    'workType': 'ASSIGNMENT',\n",
    "    'state' : 'DRAFT'\n",
    "}\n",
    "coursework = service.courses().courseWork().create(\n",
    "    courseId=course_id, body=coursework).execute()\n",
    "\n",
    "print(f\"Assignment {coursework.get('title')} created\")"
   ]
  },
  {
   "cell_type": "markdown",
   "metadata": {},
   "source": [
    "Create the `4. LBB: Unsupervised Learning` post"
   ]
  },
  {
   "cell_type": "code",
   "execution_count": 32,
   "metadata": {},
   "outputs": [
    {
     "name": "stdout",
     "output_type": "stream",
     "text": [
      "Assignment 4. LBB: Unsupervised Learning created\n"
     ]
    }
   ],
   "source": [
    "coursework = {\n",
    "    'title': '4. LBB: Unsupervised Learning',\n",
    "    'description': description.lbb['4. LBB: Unsupervised Learning'],\n",
    "    'topicId' : topic_id,\n",
    "    'workType': 'ASSIGNMENT',\n",
    "    'state' : 'DRAFT'\n",
    "}\n",
    "coursework = service.courses().courseWork().create(\n",
    "    courseId=course_id, body=coursework).execute()\n",
    "\n",
    "print(f\"Assignment {coursework.get('title')} created\")"
   ]
  },
  {
   "cell_type": "markdown",
   "metadata": {},
   "source": [
    "Create the `3. LBB: Classification in Machine Learning II` post"
   ]
  },
  {
   "cell_type": "code",
   "execution_count": 33,
   "metadata": {},
   "outputs": [
    {
     "name": "stdout",
     "output_type": "stream",
     "text": [
      "Assignment 3. LBB: Classification in Machine Learning II created\n"
     ]
    }
   ],
   "source": [
    "coursework = {\n",
    "    'title': '3. LBB: Classification in Machine Learning II',\n",
    "    'description': description.lbb['3. LBB: Classification in Machine Learning II'],\n",
    "    'topicId' : topic_id,\n",
    "    'workType': 'ASSIGNMENT',\n",
    "    'state' : 'DRAFT'\n",
    "}\n",
    "coursework = service.courses().courseWork().create(\n",
    "    courseId=course_id, body=coursework).execute()\n",
    "\n",
    "print(f\"Assignment {coursework.get('title')} created\")"
   ]
  },
  {
   "cell_type": "markdown",
   "metadata": {},
   "source": [
    "Create the `2. LBB: Classification in Machine Learning I` post"
   ]
  },
  {
   "cell_type": "code",
   "execution_count": 34,
   "metadata": {},
   "outputs": [
    {
     "name": "stdout",
     "output_type": "stream",
     "text": [
      "Assignment 2. LBB: Classification in Machine Learning I created\n"
     ]
    }
   ],
   "source": [
    "coursework = {\n",
    "    'title': '2. LBB: Classification in Machine Learning I',\n",
    "    'description': description.lbb['2. LBB: Classification in Machine Learning I'],\n",
    "    'topicId' : topic_id,\n",
    "    'workType': 'ASSIGNMENT',\n",
    "    'state' : 'DRAFT'\n",
    "}\n",
    "coursework = service.courses().courseWork().create(\n",
    "    courseId=course_id, body=coursework).execute()\n",
    "\n",
    "print(f\"Assignment {coursework.get('title')} created\")"
   ]
  },
  {
   "cell_type": "markdown",
   "metadata": {},
   "source": [
    "Create the `1. LBB: Regression Model` post"
   ]
  },
  {
   "cell_type": "code",
   "execution_count": 35,
   "metadata": {},
   "outputs": [
    {
     "name": "stdout",
     "output_type": "stream",
     "text": [
      "Assignment 1. LBB: Regression Model created\n"
     ]
    }
   ],
   "source": [
    "coursework = {\n",
    "    'title': '1. LBB: Regression Model',\n",
    "    'description': description.lbb['1. LBB: Regression Model'],\n",
    "    'topicId' : topic_id,\n",
    "    'workType': 'ASSIGNMENT',\n",
    "    'state' : 'DRAFT'\n",
    "}\n",
    "coursework = service.courses().courseWork().create(\n",
    "    courseId=course_id, body=coursework).execute()\n",
    "\n",
    "print(f\"Assignment {coursework.get('title')} created\")"
   ]
  },
  {
   "cell_type": "markdown",
   "metadata": {},
   "source": [
    "# Capstone Project\n",
    "In the section, the user is going to post courseworks and materials that belongs to the topic `Capstone Project`"
   ]
  },
  {
   "cell_type": "markdown",
   "metadata": {},
   "source": [
    "Retrieve the corresponding topic's id"
   ]
  },
  {
   "cell_type": "code",
   "execution_count": 36,
   "metadata": {},
   "outputs": [
    {
     "data": {
      "text/plain": [
       "{'courseId': '529458923369',\n",
       " 'topicId': '626685797091',\n",
       " 'name': 'Capstone Project',\n",
       " 'updateTime': '2023-09-29T11:54:51.177Z'}"
      ]
     },
     "execution_count": 36,
     "metadata": {},
     "output_type": "execute_result"
    }
   ],
   "source": [
    "for topic in topics:\n",
    "    if topic['name'] == 'Capstone Project':\n",
    "        topic_id = topic['topicId']\n",
    "        break \n",
    "\n",
    "topic"
   ]
  },
  {
   "cell_type": "markdown",
   "metadata": {},
   "source": [
    "Create the `Brief Capstone Data Visualization` post"
   ]
  },
  {
   "cell_type": "code",
   "execution_count": 37,
   "metadata": {},
   "outputs": [
    {
     "name": "stdout",
     "output_type": "stream",
     "text": [
      "Assignment Brief Capstone Machine Learning created\n"
     ]
    }
   ],
   "source": [
    "coursework = {\n",
    "    'title': 'Brief Capstone Machine Learning',\n",
    "    'description': description.capstone['Brief Capstone Machine Learning'],\n",
    "    'materials': [\n",
    "        {'link': {'url': 'https://drive.google.com/file/d/1GdlVcBRIdQKEy_uMcjqNgmXTJly5vSFH/view?usp=drive_web&authuser=0'}},\n",
    "        {'link': {'url': 'https://rpubs.com/Algoritma/ml-capstone?authuser=0'}}\n",
    "    ],\n",
    "    'topicId' : topic_id,\n",
    "    'workType': 'ASSIGNMENT',\n",
    "    'state' : 'DRAFT'\n",
    "}\n",
    "coursework = service.courses().courseWork().create(\n",
    "    courseId=course_id, body=coursework).execute()\n",
    "\n",
    "print(f\"Assignment {coursework.get('title')} created\")"
   ]
  },
  {
   "cell_type": "markdown",
   "metadata": {},
   "source": [
    "Create the `Capstone Data Visualization` post"
   ]
  },
  {
   "cell_type": "code",
   "execution_count": 38,
   "metadata": {},
   "outputs": [
    {
     "name": "stdout",
     "output_type": "stream",
     "text": [
      "Assignment Capstone Machine Learning created\n"
     ]
    }
   ],
   "source": [
    "coursework = {\n",
    "    'title': 'Capstone Machine Learning',\n",
    "    'description': description.capstone['Capstone Machine Learning'],\n",
    "    'materials': [\n",
    "        {'link': {'url': 'https://rpubs.com/Algoritma/ml-capstone?authuser=0'}}\n",
    "    ],\n",
    "    'topicId' : topic_id,\n",
    "    'workType': 'ASSIGNMENT',\n",
    "    'maxPoints': 36,\n",
    "    'state' : 'DRAFT'\n",
    "}\n",
    "coursework = service.courses().courseWork().create(\n",
    "    courseId=course_id, body=coursework).execute()\n",
    "\n",
    "print(f\"Assignment {coursework.get('title')} created\")"
   ]
  }
 ],
 "metadata": {
  "kernelspec": {
   "display_name": "classroom",
   "language": "python",
   "name": "python3"
  },
  "language_info": {
   "codemirror_mode": {
    "name": "ipython",
    "version": 3
   },
   "file_extension": ".py",
   "mimetype": "text/x-python",
   "name": "python",
   "nbconvert_exporter": "python",
   "pygments_lexer": "ipython3",
   "version": "3.10.12"
  },
  "orig_nbformat": 4
 },
 "nbformat": 4,
 "nbformat_minor": 2
}
