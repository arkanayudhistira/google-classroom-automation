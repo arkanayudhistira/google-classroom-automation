{
 "cells": [
  {
   "cell_type": "markdown",
   "metadata": {},
   "source": [
    "# Preparation"
   ]
  },
  {
   "cell_type": "markdown",
   "metadata": {},
   "source": [
    "Import required dependencies to use Google's API"
   ]
  },
  {
   "cell_type": "code",
   "execution_count": 30,
   "metadata": {},
   "outputs": [],
   "source": [
    "import os.path\n",
    "\n",
    "from google.auth.transport.requests import Request\n",
    "from google.oauth2.credentials import Credentials\n",
    "from google_auth_oauthlib.flow import InstalledAppFlow\n",
    "from googleapiclient.discovery import build\n",
    "from googleapiclient.errors import HttpError"
   ]
  },
  {
   "cell_type": "markdown",
   "metadata": {},
   "source": [
    "Define the accesses to be granted"
   ]
  },
  {
   "cell_type": "code",
   "execution_count": 31,
   "metadata": {},
   "outputs": [],
   "source": [
    "SCOPES = ['https://www.googleapis.com/auth/classroom.courses.readonly', # View your Google Classroom classes.\n",
    "          'https://www.googleapis.com/auth/classroom.rosters', # Manage your Google Classroom class rosters.\n",
    "          'https://www.googleapis.com/auth/classroom.profile.emails', # View the email addresses of people in your classes.\n",
    "          'https://www.googleapis.com/auth/classroom.topics', #See, create, and edit topics in Google Classroom.\n",
    "          'https://www.googleapis.com/auth/classroom.coursework.students', # Manage coursework and grades for students\n",
    "          'https://www.googleapis.com/auth/classroom.courseworkmaterials', # See, edit, and create classwork materials in Google Classroom.\n",
    "          'https://www.googleapis.com/auth/spreadsheets.readonly'] # See all your Google Sheets spreadsheets."
   ]
  },
  {
   "cell_type": "markdown",
   "metadata": {},
   "source": [
    "Use the provided `token.json` file to authenticate and access user data, if `token.json` is not available, it would be created from the provided `credentials.json` by logging into user's Google Account"
   ]
  },
  {
   "cell_type": "code",
   "execution_count": 32,
   "metadata": {},
   "outputs": [],
   "source": [
    "creds = None\n",
    "\n",
    "if os.path.exists('token.json'):\n",
    "    creds = Credentials.from_authorized_user_file('token.json', SCOPES)\n",
    "# If there are no (valid) credentials available, let the user log in.\n",
    "if not creds or not creds.valid:\n",
    "    if creds and creds.expired and creds.refresh_token:\n",
    "        creds.refresh(Request())\n",
    "    else:\n",
    "        flow = InstalledAppFlow.from_client_secrets_file(\n",
    "            'credentials.json', SCOPES)\n",
    "        creds = flow.run_local_server(port=0)\n",
    "    # Save the credentials for the next run\n",
    "    with open('token.json', 'w') as token:\n",
    "        token.write(creds.to_json())"
   ]
  },
  {
   "cell_type": "markdown",
   "metadata": {},
   "source": [
    "# Score Academy\n",
    "\n",
    "In the section, the user is going to access the scores that have been entered on the spreadsheet `Score Academy`"
   ]
  },
  {
   "cell_type": "markdown",
   "metadata": {},
   "source": [
    "Input the link to the Score Academy spreadsheet and retrieve the Spreadsheet ID"
   ]
  },
  {
   "cell_type": "code",
   "execution_count": 33,
   "metadata": {},
   "outputs": [],
   "source": [
    "SCORE_ACADEMY_LINK = 'https://docs.google.com/spreadsheets/d/1cGJ0pn9k9gKCBnceWVwaL9D7BBDMNjLh8uPYlaBlJi8/edit?usp=sharing'\n",
    "SCORE_ACADEMY_ID = SCORE_ACADEMY_LINK.split(sep='/')[-2]"
   ]
  },
  {
   "cell_type": "markdown",
   "metadata": {},
   "source": [
    "Specify the sheet and the cell ranges that is going to be accessed"
   ]
  },
  {
   "cell_type": "code",
   "execution_count": 34,
   "metadata": {},
   "outputs": [],
   "source": [
    "GRADE_RANGE = ['Academy: Batch 22!D:D', 'Academy: Batch 22!E:G', 'Academy: Batch 22!L:Q'] # Vulcan Sheet Score Academy"
   ]
  },
  {
   "cell_type": "markdown",
   "metadata": {},
   "source": [
    "Call the Google Spreadsheet API and retrieve the values of the ranges that have been specified"
   ]
  },
  {
   "cell_type": "code",
   "execution_count": 35,
   "metadata": {},
   "outputs": [],
   "source": [
    "try:\n",
    "    service = build('sheets', 'v4', credentials=creds)\n",
    "\n",
    "    sheet = service.spreadsheets().values().batchGet(spreadsheetId=SCORE_ACADEMY_ID,\n",
    "                                                     ranges=GRADE_RANGE).execute()\n",
    "    values = sheet.get('valueRanges', [])\n",
    "        \n",
    "except HttpError as error:\n",
    "    print(error)"
   ]
  },
  {
   "cell_type": "markdown",
   "metadata": {},
   "source": [
    "Concat the retrieved values as a dataframe"
   ]
  },
  {
   "cell_type": "code",
   "execution_count": 36,
   "metadata": {},
   "outputs": [
    {
     "data": {
      "text/html": [
       "<div>\n",
       "<style scoped>\n",
       "    .dataframe tbody tr th:only-of-type {\n",
       "        vertical-align: middle;\n",
       "    }\n",
       "\n",
       "    .dataframe tbody tr th {\n",
       "        vertical-align: top;\n",
       "    }\n",
       "\n",
       "    .dataframe thead th {\n",
       "        text-align: right;\n",
       "    }\n",
       "</style>\n",
       "<table border=\"1\" class=\"dataframe\">\n",
       "  <thead>\n",
       "    <tr style=\"text-align: right;\">\n",
       "      <th></th>\n",
       "      <th>Email</th>\n",
       "      <th>P4DS-PS Quiz</th>\n",
       "      <th>DV Quiz</th>\n",
       "      <th>IP Quiz</th>\n",
       "      <th>RM Quiz</th>\n",
       "      <th>C1 Quiz</th>\n",
       "      <th>C2 Quiz</th>\n",
       "      <th>UL Quiz</th>\n",
       "      <th>TS Quiz</th>\n",
       "      <th>NN Quiz</th>\n",
       "    </tr>\n",
       "  </thead>\n",
       "  <tbody>\n",
       "    <tr>\n",
       "      <th>1</th>\n",
       "      <td>rusdipermana2@gmail.com</td>\n",
       "      <td>4</td>\n",
       "      <td>2</td>\n",
       "      <td>1</td>\n",
       "      <td>4</td>\n",
       "      <td>4</td>\n",
       "      <td>4</td>\n",
       "      <td>4</td>\n",
       "      <td>4</td>\n",
       "      <td>4</td>\n",
       "    </tr>\n",
       "    <tr>\n",
       "      <th>2</th>\n",
       "      <td>alfonsa.cindy@kapalapi.co.id</td>\n",
       "      <td>4</td>\n",
       "      <td>2</td>\n",
       "      <td>1</td>\n",
       "      <td>4</td>\n",
       "      <td>4</td>\n",
       "      <td>4</td>\n",
       "      <td>4</td>\n",
       "      <td>4</td>\n",
       "      <td>4</td>\n",
       "    </tr>\n",
       "    <tr>\n",
       "      <th>3</th>\n",
       "      <td>carli@fli.co.id</td>\n",
       "      <td>4</td>\n",
       "      <td>2</td>\n",
       "      <td>1</td>\n",
       "      <td>4</td>\n",
       "      <td>4</td>\n",
       "      <td>4</td>\n",
       "      <td>4</td>\n",
       "      <td>4</td>\n",
       "      <td>4</td>\n",
       "    </tr>\n",
       "    <tr>\n",
       "      <th>4</th>\n",
       "      <td>christopher.aninditya.a@gmail.com</td>\n",
       "      <td>4</td>\n",
       "      <td>2</td>\n",
       "      <td>1</td>\n",
       "      <td>4</td>\n",
       "      <td>4</td>\n",
       "      <td>4</td>\n",
       "      <td>4</td>\n",
       "      <td>4</td>\n",
       "      <td>4</td>\n",
       "    </tr>\n",
       "    <tr>\n",
       "      <th>5</th>\n",
       "      <td>ambarishalayang@gmail.com</td>\n",
       "      <td>4</td>\n",
       "      <td>2</td>\n",
       "      <td>1</td>\n",
       "      <td>4</td>\n",
       "      <td>4</td>\n",
       "      <td>4</td>\n",
       "      <td>4</td>\n",
       "      <td>4</td>\n",
       "      <td>4</td>\n",
       "    </tr>\n",
       "  </tbody>\n",
       "</table>\n",
       "</div>"
      ],
      "text/plain": [
       "0                              Email P4DS-PS Quiz DV Quiz IP Quiz RM Quiz  \\\n",
       "1            rusdipermana2@gmail.com            4       2       1       4   \n",
       "2       alfonsa.cindy@kapalapi.co.id            4       2       1       4   \n",
       "3                    carli@fli.co.id            4       2       1       4   \n",
       "4  christopher.aninditya.a@gmail.com            4       2       1       4   \n",
       "5          ambarishalayang@gmail.com            4       2       1       4   \n",
       "\n",
       "0 C1 Quiz C2 Quiz UL Quiz TS Quiz NN Quiz  \n",
       "1       4       4       4       4       4  \n",
       "2       4       4       4       4       4  \n",
       "3       4       4       4       4       4  \n",
       "4       4       4       4       4       4  \n",
       "5       4       4       4       4       4  "
      ]
     },
     "execution_count": 36,
     "metadata": {},
     "output_type": "execute_result"
    }
   ],
   "source": [
    "import pandas as pd\n",
    "\n",
    "email = pd.DataFrame(values[0].get('values'))\n",
    "grade_dv = pd.DataFrame(values[1].get('values'))\n",
    "grade_ml = pd.DataFrame(values[2].get('values'))\n",
    "\n",
    "df = pd.concat([email, grade_dv, grade_ml], axis=1)\n",
    "df.columns = df.iloc[0]\n",
    "df.drop(index=0, inplace=True)\n",
    "\n",
    "df.head(5)"
   ]
  },
  {
   "cell_type": "markdown",
   "metadata": {},
   "source": [
    "# Course\n",
    "In this section, the user is going to choose which Google Classroom Course that is going to be accessed"
   ]
  },
  {
   "cell_type": "markdown",
   "metadata": {},
   "source": [
    "Call the Google Classroom API to access various methods with user's access from the credential that has been authenticated"
   ]
  },
  {
   "cell_type": "code",
   "execution_count": 37,
   "metadata": {},
   "outputs": [],
   "source": [
    "service = build('classroom', 'v1', credentials=creds)"
   ]
  },
  {
   "cell_type": "markdown",
   "metadata": {},
   "source": [
    "Use the `courses().list()` method to show a list of the user's courses"
   ]
  },
  {
   "cell_type": "code",
   "execution_count": 38,
   "metadata": {},
   "outputs": [
    {
     "name": "stdout",
     "output_type": "stream",
     "text": [
      "Courses:\n",
      "- Automation\n",
      "- Wizard Data Analytics\n",
      "- Vulcan Machine Learning\n",
      "- Vulcan Data Visualization\n",
      "- Vulcan Data Analytics\n"
     ]
    }
   ],
   "source": [
    "results = service.courses().list(pageSize=5).execute()\n",
    "courses = results.get('courses', [])\n",
    "\n",
    "if not courses:\n",
    "    print('No courses found.')\n",
    "\n",
    "# Prints the names of the first 5 courses.\n",
    "print('Courses:')\n",
    "for course in courses:\n",
    "    print(f\"- {course['name']}\")"
   ]
  },
  {
   "cell_type": "markdown",
   "metadata": {},
   "source": [
    "Input the course name (**case-insensitive**) that is going to be accessed (Example: `wizard data visualization`). If the course was found, the course's `id` will be retrieved."
   ]
  },
  {
   "cell_type": "code",
   "execution_count": 39,
   "metadata": {},
   "outputs": [
    {
     "name": "stdout",
     "output_type": "stream",
     "text": [
      "automation found with ID 616952989203\n"
     ]
    }
   ],
   "source": [
    "course_input = input(\"Enter Google Classroom Class Name : \")\n",
    "course_lowercase = course_input.lower()\n",
    "course_id = None\n",
    "\n",
    "for course in courses:\n",
    "    if course_lowercase == course['name'].lower():\n",
    "        course_id = course['id']\n",
    "        break\n",
    "\n",
    "if course_id == None:\n",
    "    raise Exception(f\"{course_input} course not found\")\n",
    "\n",
    "else:\n",
    "    print(f'{course_input} found with ID {course_id}')"
   ]
  },
  {
   "cell_type": "markdown",
   "metadata": {},
   "source": [
    "# Quiz\n",
    "In this section, the grading process is going to be done using the score retrieved from the spreadsheet"
   ]
  },
  {
   "cell_type": "markdown",
   "metadata": {},
   "source": [
    "Input the quiz code (**case-insensitive**) that is going to be accessed. If the quiz was found, the quiz's `id` will be retrieved. **Quiz Input :**\n",
    "\n",
    " - `'P4DS'` : 1. Q: Programming for Data Science (P4DS) & Practical Statistic (PS)\n",
    " - `'DV'` : 2. Q: Data Visualization (DV)\n",
    " - `'IP'` : 3. Q: Interactive Plotting (IP)"
   ]
  },
  {
   "cell_type": "code",
   "execution_count": 40,
   "metadata": {},
   "outputs": [
    {
     "name": "stdout",
     "output_type": "stream",
     "text": [
      "1. Q: Programming for Data Science (P4DS) & Practical Statistic (PS) Quiz was found\n"
     ]
    }
   ],
   "source": [
    "from assets import classcode\n",
    "\n",
    "classworks = []\n",
    "\n",
    "service = build('classroom', 'v1', credentials=creds)\n",
    "\n",
    "response = service.courses().courseWork().list(\n",
    "    courseId=course_id).execute()\n",
    "classworks.extend(response.get('courseWork', []))\n",
    "\n",
    "quiz_input = input(\"Enter Quiz Code: \")\n",
    "quiz_id = None\n",
    "\n",
    "for classwork in classworks:\n",
    "    if classwork['title'] == classcode(quiz_input):\n",
    "        quiz_id = classwork['id']\n",
    "        break\n",
    "\n",
    "if quiz_id == None:\n",
    "    raise Exception(f\"Quiz not found\")\n",
    "else:\n",
    "    print(f\"{classwork['title']} Quiz was found\")\n"
   ]
  },
  {
   "cell_type": "markdown",
   "metadata": {},
   "source": [
    "### Draft Grades\n",
    "\n",
    "Submissions from the chosen quiz are going to be graded as **Draft Grade** "
   ]
  },
  {
   "cell_type": "markdown",
   "metadata": {},
   "source": [
    "Use the `courses().courseWork().studentSubmissions().list()` method to store a list of the quiz's submissions"
   ]
  },
  {
   "cell_type": "code",
   "execution_count": null,
   "metadata": {},
   "outputs": [],
   "source": [
    "submissions = []\n",
    "\n",
    "response = service.courses().courseWork().studentSubmissions().list(\n",
    "    courseId=course_id,\n",
    "    courseWorkId=quiz_id).execute()\n",
    "submissions.extend(response.get('studentSubmissions', []))"
   ]
  },
  {
   "cell_type": "markdown",
   "metadata": {},
   "source": [
    "All the stored submission are graded as draft in accordance with the student's e-mail in the Google Classroom using `courses().courseWork().studentSubmissions().patch()` method"
   ]
  },
  {
   "cell_type": "code",
   "execution_count": 41,
   "metadata": {},
   "outputs": [
    {
     "name": "stdout",
     "output_type": "stream",
     "text": [
      "WARNING: Arkana Yudhistira (arkana.yudhistira@gmail.com) was not found\n",
      "WARNING: Diva Kartika Larasati (diva@algorit.ma) was not found\n",
      "WARNING: Yusuf Rafsanjani (Yusraf) (yusraf@algorit.ma) was not found\n"
     ]
    },
    {
     "data": {
      "text/html": [
       "<div>\n",
       "<style scoped>\n",
       "    .dataframe tbody tr th:only-of-type {\n",
       "        vertical-align: middle;\n",
       "    }\n",
       "\n",
       "    .dataframe tbody tr th {\n",
       "        vertical-align: top;\n",
       "    }\n",
       "\n",
       "    .dataframe thead th {\n",
       "        text-align: right;\n",
       "    }\n",
       "</style>\n",
       "<table border=\"1\" class=\"dataframe\">\n",
       "  <thead>\n",
       "    <tr style=\"text-align: right;\">\n",
       "      <th></th>\n",
       "      <th>Name</th>\n",
       "      <th>Grade</th>\n",
       "      <th>Status</th>\n",
       "    </tr>\n",
       "  </thead>\n",
       "  <tbody>\n",
       "    <tr>\n",
       "      <th>0</th>\n",
       "      <td>Arkana Yudhistira</td>\n",
       "      <td>None</td>\n",
       "      <td>NOT FOUND</td>\n",
       "    </tr>\n",
       "    <tr>\n",
       "      <th>1</th>\n",
       "      <td>Diva Kartika Larasati</td>\n",
       "      <td>None</td>\n",
       "      <td>NOT FOUND</td>\n",
       "    </tr>\n",
       "    <tr>\n",
       "      <th>2</th>\n",
       "      <td>Yusuf Rafsanjani (Yusraf)</td>\n",
       "      <td>None</td>\n",
       "      <td>NOT FOUND</td>\n",
       "    </tr>\n",
       "  </tbody>\n",
       "</table>\n",
       "</div>"
      ],
      "text/plain": [
       "                        Name Grade     Status\n",
       "0          Arkana Yudhistira  None  NOT FOUND\n",
       "1      Diva Kartika Larasati  None  NOT FOUND\n",
       "2  Yusuf Rafsanjani (Yusraf)  None  NOT FOUND"
      ]
     },
     "execution_count": 41,
     "metadata": {},
     "output_type": "execute_result"
    }
   ],
   "source": [
    "from assets import quizcode\n",
    "\n",
    "draft = []\n",
    "quiz_code = quizcode(quiz_input)\n",
    "\n",
    "for submission in submissions:\n",
    "  # Retrieve student's email\n",
    "  submission_profile = service.courses().students().get(courseId=course_id, userId=submission['userId']).execute()\n",
    "  student_df = df.loc[df['Email'] == submission_profile['profile']['emailAddress']]\n",
    "  \n",
    "  # Retrieve student's grade\n",
    "  if not student_df.empty:\n",
    "    if student_df[quiz_code].values[0].isnumeric():\n",
    "      submission_grade = student_df[quiz_code].values[0]\n",
    "    else:\n",
    "      print(f\"WARNING: {submission_profile['profile']['name']['fullName']} ({submission_profile['profile']['emailAddress']}) has no grade\")\n",
    "      draft.append([submission_profile['profile']['name']['fullName'], None, \"NO GRADE\"])\n",
    "      continue      \n",
    "  else:\n",
    "    print(f\"WARNING: {submission_profile['profile']['name']['fullName']} ({submission_profile['profile']['emailAddress']}) was not found\")\n",
    "    draft.append([submission_profile['profile']['name']['fullName'], None, \"NOT FOUND\"])\n",
    "    continue\n",
    "\n",
    "  # Grade the submission as draftGrade\n",
    "  studentSubmission = {\n",
    "    'draftGrade': str(submission_grade)\n",
    "  }\n",
    "\n",
    "  response = service.courses().courseWork().studentSubmissions().patch(\n",
    "      courseId=course_id,\n",
    "      courseWorkId=classwork['id'],\n",
    "      id=submission['id'],\n",
    "      updateMask='draftGrade',\n",
    "      body = studentSubmission ).execute()\n",
    "  \n",
    "  draft.append([submission_profile['profile']['name']['fullName'], submission_grade, \"GRADED\"])\n",
    "\n",
    "draft_df = pd.DataFrame(draft, columns=['Name', 'Grade', 'Status'])\n",
    "draft_df"
   ]
  },
  {
   "cell_type": "markdown",
   "metadata": {},
   "source": [
    "Confirm Draft Grade before continuing"
   ]
  },
  {
   "cell_type": "code",
   "execution_count": 42,
   "metadata": {},
   "outputs": [
    {
     "name": "stdout",
     "output_type": "stream",
     "text": [
      "Returning student's grades\n"
     ]
    }
   ],
   "source": [
    "confirmation = input('Return grades? [y]/[n] : ')\n",
    "if confirmation.lower() == 'y':\n",
    "    print(\"Returning student's grades\")\n",
    "else :\n",
    "    raise Exception(\"Return cancelled\")"
   ]
  },
  {
   "cell_type": "markdown",
   "metadata": {},
   "source": [
    "### Return Grades\n",
    "\n",
    "Submissions from the chosen quiz are going to be graded as **Assigned Grade**"
   ]
  },
  {
   "cell_type": "markdown",
   "metadata": {},
   "source": [
    "All the stored submission are grades are **returned** in accordance with the student's e-mail in the Google Classroom using `courses().courseWork().studentSubmissions().patch()` method"
   ]
  },
  {
   "cell_type": "code",
   "execution_count": 43,
   "metadata": {},
   "outputs": [
    {
     "name": "stdout",
     "output_type": "stream",
     "text": [
      "Quiz grades was successfully returned\n"
     ]
    }
   ],
   "source": [
    "try:\n",
    "    for submission in submissions:\n",
    "        # Retrieve student's email\n",
    "        submission_profile = service.courses().students().get(courseId=course_id, userId=submission['userId']).execute()\n",
    "        student_df = df.loc[df['Email'] == submission_profile['profile']['emailAddress']]\n",
    "        \n",
    "        # Retrieve student's grade\n",
    "        if not student_df.empty:\n",
    "            if student_df[quiz_code].values[0].isnumeric():\n",
    "                submission_grade = student_df[quiz_code].values[0]\n",
    "            else:\n",
    "                continue\n",
    "        else:\n",
    "            continue\n",
    "        \n",
    "        # Grade the submission as assignedGrade\n",
    "        studentSubmission = {\n",
    "            'assignedGrade': str(submission_grade)\n",
    "        }\n",
    "\n",
    "        response = service.courses().courseWork().studentSubmissions().patch(\n",
    "            courseId=course_id,\n",
    "            courseWorkId=classwork['id'],\n",
    "            id=submission['id'],\n",
    "            updateMask='assignedGrade',\n",
    "            body = studentSubmission).execute()\n",
    "        \n",
    "    print('Quiz grades was successfully returned')\n",
    "\n",
    "except HttpError as error:\n",
    "    print(error)"
   ]
  }
 ],
 "metadata": {
  "kernelspec": {
   "display_name": "classroom",
   "language": "python",
   "name": "python3"
  },
  "language_info": {
   "codemirror_mode": {
    "name": "ipython",
    "version": 3
   },
   "file_extension": ".py",
   "mimetype": "text/x-python",
   "name": "python",
   "nbconvert_exporter": "python",
   "pygments_lexer": "ipython3",
   "version": "3.10.12"
  },
  "orig_nbformat": 4
 },
 "nbformat": 4,
 "nbformat_minor": 2
}
