{
 "cells": [
  {
   "cell_type": "markdown",
   "metadata": {},
   "source": [
    "# Preparation"
   ]
  },
  {
   "cell_type": "markdown",
   "metadata": {},
   "source": [
    "Import required dependencies to use Google's API"
   ]
  },
  {
   "cell_type": "code",
   "execution_count": 4,
   "metadata": {},
   "outputs": [],
   "source": [
    "import os.path\n",
    "\n",
    "from google.auth.transport.requests import Request\n",
    "from google.oauth2.credentials import Credentials\n",
    "from google_auth_oauthlib.flow import InstalledAppFlow\n",
    "from googleapiclient.discovery import build\n",
    "from googleapiclient.errors import HttpError"
   ]
  },
  {
   "cell_type": "markdown",
   "metadata": {},
   "source": [
    "Define the accesses to be granted"
   ]
  },
  {
   "cell_type": "code",
   "execution_count": 5,
   "metadata": {},
   "outputs": [],
   "source": [
    "SCOPES = ['https://www.googleapis.com/auth/classroom.courses.readonly', # View your Google Classroom classes.\n",
    "          'https://www.googleapis.com/auth/classroom.rosters', # Manage your Google Classroom class rosters.\n",
    "          'https://www.googleapis.com/auth/classroom.profile.emails', # View the email addresses of people in your classes.\n",
    "          'https://www.googleapis.com/auth/classroom.topics', #See, create, and edit topics in Google Classroom.\n",
    "          'https://www.googleapis.com/auth/classroom.coursework.students', # Manage coursework and grades for students\n",
    "          'https://www.googleapis.com/auth/classroom.courseworkmaterials', # See, edit, and create classwork materials in Google Classroom.\n",
    "          'https://www.googleapis.com/auth/spreadsheets.readonly'] # See all your Google Sheets spreadsheets."
   ]
  },
  {
   "cell_type": "markdown",
   "metadata": {},
   "source": [
    "Use the provided `token.json` file to authenticate and access user data, if `token.json` is not available, it would be created from the provided `credentials.json` by logging into user's Google Account"
   ]
  },
  {
   "cell_type": "code",
   "execution_count": 6,
   "metadata": {},
   "outputs": [
    {
     "name": "stdout",
     "output_type": "stream",
     "text": [
      "Please visit this URL to authorize this application: https://accounts.google.com/o/oauth2/auth?response_type=code&client_id=845305684945-mm42jq9nkk30ov1qf64ur3t855jp0e27.apps.googleusercontent.com&redirect_uri=http%3A%2F%2Flocalhost%3A55306%2F&scope=https%3A%2F%2Fwww.googleapis.com%2Fauth%2Fclassroom.courses.readonly+https%3A%2F%2Fwww.googleapis.com%2Fauth%2Fclassroom.rosters+https%3A%2F%2Fwww.googleapis.com%2Fauth%2Fclassroom.profile.emails+https%3A%2F%2Fwww.googleapis.com%2Fauth%2Fclassroom.topics+https%3A%2F%2Fwww.googleapis.com%2Fauth%2Fclassroom.coursework.students+https%3A%2F%2Fwww.googleapis.com%2Fauth%2Fclassroom.courseworkmaterials+https%3A%2F%2Fwww.googleapis.com%2Fauth%2Fspreadsheets.readonly&state=h5AIM4xpbhWim5JR9kYOGEzIFwQB2A&access_type=offline\n"
     ]
    }
   ],
   "source": [
    "creds = None\n",
    "\n",
    "if os.path.exists('token.json'):\n",
    "    creds = Credentials.from_authorized_user_file('token.json', SCOPES)\n",
    "# If there are no (valid) credentials available, let the user log in.\n",
    "if not creds or not creds.valid:\n",
    "    if creds and creds.expired and creds.refresh_token:\n",
    "        creds.refresh(Request())\n",
    "    else:\n",
    "        flow = InstalledAppFlow.from_client_secrets_file(\n",
    "            'credentials.json', SCOPES)\n",
    "        creds = flow.run_local_server(port=0)\n",
    "    # Save the credentials for the next run\n",
    "    with open('token.json', 'w') as token:\n",
    "        token.write(creds.to_json())\n",
    "\n"
   ]
  },
  {
   "cell_type": "markdown",
   "metadata": {},
   "source": [
    "Call the Google Classroom API to access various methods with user's access from the credential that has been authenticated"
   ]
  },
  {
   "cell_type": "code",
   "execution_count": 7,
   "metadata": {},
   "outputs": [],
   "source": [
    "service = build('classroom', 'v1', credentials=creds)"
   ]
  },
  {
   "cell_type": "markdown",
   "metadata": {},
   "source": [
    "# Course\n",
    "In this section, the user is going to choose which Google Classroom Course that is going to be accessed"
   ]
  },
  {
   "cell_type": "markdown",
   "metadata": {},
   "source": [
    "Use the `courses().list()` method to show a list of the user's courses"
   ]
  },
  {
   "cell_type": "code",
   "execution_count": 8,
   "metadata": {},
   "outputs": [
    {
     "name": "stdout",
     "output_type": "stream",
     "text": [
      "Courses:\n",
      "- Testing DV\n",
      "- Kementerian BUMN\n",
      "- Automation\n",
      "- Wizard Data Analytics\n",
      "- Vulcan Machine Learning\n"
     ]
    }
   ],
   "source": [
    "results = service.courses().list(pageSize=5).execute()\n",
    "courses = results.get('courses', [])\n",
    "\n",
    "if not courses:\n",
    "    print('No courses found.')\n",
    "\n",
    "# Prints the names of the first 5 courses.\n",
    "print('Courses:')\n",
    "for course in courses:\n",
    "    print(f\"- {course['name']}\")"
   ]
  },
  {
   "cell_type": "markdown",
   "metadata": {},
   "source": [
    "Input the course name (**case-insensitive**) that is going to be accessed (Example: `wizard data visualization`). If the course was found, the course's `id` will be retrieved."
   ]
  },
  {
   "cell_type": "code",
   "execution_count": 9,
   "metadata": {},
   "outputs": [
    {
     "name": "stdout",
     "output_type": "stream",
     "text": [
      "testing dv found with ID 621398536690\n"
     ]
    }
   ],
   "source": [
    "course_input = input(\"Enter Course Name: \")\n",
    "course_lowercase = course_input.lower()\n",
    "course_id = None\n",
    "\n",
    "for course in courses:\n",
    "    if course_lowercase == course['name'].lower():\n",
    "        course_id = course['id']\n",
    "        break\n",
    "\n",
    "if course_id == None:\n",
    "    raise Exception(f\"{course_input} course not found\")\n",
    "\n",
    "else:\n",
    "    print(f'{course_input} found with ID {course_id}')"
   ]
  },
  {
   "cell_type": "markdown",
   "metadata": {},
   "source": [
    "# Topic\n",
    "In this section, the user is going to create new topics to group the courseworks and materials"
   ]
  },
  {
   "cell_type": "markdown",
   "metadata": {},
   "source": [
    "Define the topics names in a list"
   ]
  },
  {
   "cell_type": "code",
   "execution_count": 8,
   "metadata": {},
   "outputs": [],
   "source": [
    "topic_list = ['Capstone Project', 'Learning by Building', \n",
    "              'Quiz', 'Additional Assignment', 'Lecture Notes',\n",
    "              'Material', 'Administration Deck']"
   ]
  },
  {
   "cell_type": "markdown",
   "metadata": {},
   "source": [
    "Create the topics using `topics().create()` method, if the topic was already created, it would show `Requested entity already exists` error."
   ]
  },
  {
   "cell_type": "code",
   "execution_count": 9,
   "metadata": {},
   "outputs": [
    {
     "name": "stdout",
     "output_type": "stream",
     "text": [
      "Topic created: Capstone Project - 621385140075\n",
      "Topic created: Learning by Building - 621387154997\n",
      "Topic created: Quiz - 621385910017\n",
      "Topic created: Additional Assignment - 621385190981\n",
      "Topic created: Lecture Notes - 621385150508\n",
      "Topic created: Material - 621385910071\n",
      "Topic created: Administration Deck - 621385692410\n"
     ]
    }
   ],
   "source": [
    "try:\n",
    "  for name in topic_list:\n",
    "    topic = {\n",
    "        \"name\": name\n",
    "    }\n",
    "    response = service.courses().topics().create(\n",
    "      courseId=course_id,\n",
    "      body=topic).execute()\n",
    "\n",
    "    print('Topic created: {} - {}'.format(response['name'], response['topicId']))\n",
    "\n",
    "except HttpError as error:\n",
    "  print(f\"An error occurred: {error}\")"
   ]
  },
  {
   "cell_type": "markdown",
   "metadata": {},
   "source": [
    "Use the `topics().list()` method to show a list of the topics that have been created"
   ]
  },
  {
   "cell_type": "code",
   "execution_count": 13,
   "metadata": {},
   "outputs": [
    {
     "name": "stdout",
     "output_type": "stream",
     "text": [
      "Topics : \n",
      " - Administration Deck (621385692410)\n",
      " - Material (621385910071)\n",
      " - Lecture Notes (621385150508)\n",
      " - Additional Assignment (621385190981)\n",
      " - Quiz (621385910017)\n",
      " - Learning by Building (621387154997)\n",
      " - Capstone Project (621385140075)\n"
     ]
    }
   ],
   "source": [
    "topics = []\n",
    "\n",
    "response = service.courses().topics().list(\n",
    "    courseId=course_id).execute()\n",
    "topics.extend(response.get('topic', []))\n",
    "\n",
    "print('Topics : ')\n",
    "for topic in topics:\n",
    "    print(' - {} ({})'.format(topic['name'], topic['topicId']))"
   ]
  },
  {
   "cell_type": "markdown",
   "metadata": {},
   "source": [
    "# Administration Deck\n",
    "\n",
    "In the section, the user is going to post courseworks and materials that belongs to the topic `Administration Deck`"
   ]
  },
  {
   "cell_type": "markdown",
   "metadata": {},
   "source": [
    "To access the descriptions of each courseworks and materials, the user can use the `Classwork()` object from `assets.py` that store the material's descriptions as attribute."
   ]
  },
  {
   "cell_type": "code",
   "execution_count": 11,
   "metadata": {},
   "outputs": [],
   "source": [
    "from assets import Classwork\n",
    "\n",
    "description = Classwork()"
   ]
  },
  {
   "cell_type": "markdown",
   "metadata": {},
   "source": [
    "Retrieve the corresponding topic's id"
   ]
  },
  {
   "cell_type": "code",
   "execution_count": 14,
   "metadata": {},
   "outputs": [
    {
     "data": {
      "text/plain": [
       "{'courseId': '621398536690',\n",
       " 'topicId': '621385692410',\n",
       " 'name': 'Administration Deck',\n",
       " 'updateTime': '2023-09-06T10:45:44.175Z'}"
      ]
     },
     "execution_count": 14,
     "metadata": {},
     "output_type": "execute_result"
    }
   ],
   "source": [
    "for topic in topics:\n",
    "    if topic['name'] == 'Administration Deck':\n",
    "        topic_id = topic['topicId']\n",
    "        break \n",
    "\n",
    "topic"
   ]
  },
  {
   "cell_type": "markdown",
   "metadata": {},
   "source": [
    "Create the `Permohonan Sesi Mentoring` post"
   ]
  },
  {
   "cell_type": "code",
   "execution_count": 13,
   "metadata": {},
   "outputs": [
    {
     "name": "stdout",
     "output_type": "stream",
     "text": [
      "Material Permohonan Sesi Mentoring created\n"
     ]
    }
   ],
   "source": [
    "coursework = {\n",
    "    'title': 'Permohonan Sesi Mentoring',\n",
    "    'description': description.administration_deck['Permohonan Sesi Mentoring'],\n",
    "    'materials': [\n",
    "        {'link': {'url': 'http://bit.ly/mentoring-onsite?authuser=0'}},\n",
    "        {'link': {'url': 'https://github.com/teamalgoritma/community?authuser=0'}},\n",
    "        {'link': {'url': 'https://drive.google.com/file/d/1SuU3e8hg9jfMO25kWang1MIaaePa2x-Y/view?usp=drive_web&authuser=0'}},\n",
    "    ],\n",
    "    'topicId' : topic_id,\n",
    "    'state' : 'DRAFT'\n",
    "}\n",
    "coursework = service.courses().courseWorkMaterials().create(\n",
    "    courseId=course_id, body=coursework).execute()\n",
    "\n",
    "print(f\"Material {coursework.get('title')} created\")"
   ]
  },
  {
   "cell_type": "markdown",
   "metadata": {},
   "source": [
    "Create the `How to Ask Questions` post"
   ]
  },
  {
   "cell_type": "code",
   "execution_count": 14,
   "metadata": {},
   "outputs": [
    {
     "name": "stdout",
     "output_type": "stream",
     "text": [
      "Material How to Ask Questions created\n"
     ]
    }
   ],
   "source": [
    "coursework = {\n",
    "    'title': 'How to Ask Questions',\n",
    "    'description': description.administration_deck['How to Ask Questions'],\n",
    "    'materials': [\n",
    "        {'link': {'url': 'https://github.com/teamalgoritma/community?authuser=0'}},\n",
    "    ],\n",
    "    'topicId' : topic_id,\n",
    "    'state' : 'DRAFT'\n",
    "}\n",
    "coursework = service.courses().courseWorkMaterials().create(\n",
    "    courseId=course_id, body=coursework).execute()\n",
    "\n",
    "print(f\"Material {coursework.get('title')} created\")"
   ]
  },
  {
   "cell_type": "markdown",
   "metadata": {},
   "source": [
    "Create the `Administration Deck` post"
   ]
  },
  {
   "cell_type": "code",
   "execution_count": 15,
   "metadata": {},
   "outputs": [
    {
     "name": "stdout",
     "output_type": "stream",
     "text": [
      "Material Administration Deck created\n"
     ]
    }
   ],
   "source": [
    "coursework = {\n",
    "    'title': 'Administration Deck',\n",
    "    'description': description.administration_deck['Administration Deck'],\n",
    "    'materials': [\n",
    "        {'link': {'url': 'https://drive.google.com/file/d/1ivjryti41IekS55HSj43bC8TXLaZZrii/view?usp=drive_web&authuser=0'}},\n",
    "        {'link': {'url': 'https://drive.google.com/file/d/1vUG9v_Aie-aHW4U93FD7LKcjfxilHG5u/view?usp=drive_web&authuser=0'}}\n",
    "    ],\n",
    "    'topicId' : topic_id,\n",
    "    'state' : 'DRAFT'\n",
    "}\n",
    "coursework = service.courses().courseWorkMaterials().create(\n",
    "    courseId=course_id, body=coursework).execute()\n",
    "\n",
    "print(f\"Material {coursework.get('title')} created\")"
   ]
  },
  {
   "cell_type": "markdown",
   "metadata": {},
   "source": [
    "# Material\n",
    "In the section, the user is going to post courseworks and materials that belongs to the topic `Material`"
   ]
  },
  {
   "cell_type": "markdown",
   "metadata": {},
   "source": [
    "Retrieve the corresponding topic's id"
   ]
  },
  {
   "cell_type": "code",
   "execution_count": 16,
   "metadata": {},
   "outputs": [
    {
     "data": {
      "text/plain": [
       "{'courseId': '621398536690',\n",
       " 'topicId': '621385910071',\n",
       " 'name': 'Material',\n",
       " 'updateTime': '2023-09-06T10:45:33.006Z'}"
      ]
     },
     "execution_count": 16,
     "metadata": {},
     "output_type": "execute_result"
    }
   ],
   "source": [
    "for topic in topics:\n",
    "    if topic['name'] == 'Material':\n",
    "        topic_id = topic['topicId']\n",
    "        break \n",
    "\n",
    "topic"
   ]
  },
  {
   "cell_type": "markdown",
   "metadata": {},
   "source": [
    "Create the `4. M : Interactive Plotting (IP)` post"
   ]
  },
  {
   "cell_type": "code",
   "execution_count": 17,
   "metadata": {},
   "outputs": [
    {
     "name": "stdout",
     "output_type": "stream",
     "text": [
      "Material 4. M : Interactive Plotting (IP) created\n"
     ]
    }
   ],
   "source": [
    "coursework = {\n",
    "    'title': '4. M : Interactive Plotting (IP)',\n",
    "    'materials': [\n",
    "        {'link': {'url': 'https://bit.ly/ip_material?authuser=0'}},\n",
    "    ],\n",
    "    'topicId' : topic_id,\n",
    "    'state' : 'DRAFT'\n",
    "}\n",
    "coursework = service.courses().courseWorkMaterials().create(\n",
    "    courseId=course_id, body=coursework).execute()\n",
    "\n",
    "print(f\"Material {coursework.get('title')} created\")"
   ]
  },
  {
   "cell_type": "markdown",
   "metadata": {},
   "source": [
    "Create the `3. M : Data Visualization (DV)` post"
   ]
  },
  {
   "cell_type": "code",
   "execution_count": 18,
   "metadata": {},
   "outputs": [
    {
     "name": "stdout",
     "output_type": "stream",
     "text": [
      "Material 3. M : Data Visualization (DV) created\n"
     ]
    }
   ],
   "source": [
    "coursework = {\n",
    "    'title': '3. M : Data Visualization (DV)',\n",
    "    'materials': [\n",
    "        {'link': {'url': 'https://bit.ly/dviz_material?authuser=0'}},\n",
    "    ],\n",
    "    'topicId' : topic_id,\n",
    "    'state' : 'DRAFT'\n",
    "}\n",
    "coursework = service.courses().courseWorkMaterials().create(\n",
    "    courseId=course_id, body=coursework).execute()\n",
    "\n",
    "print(f\"Material {coursework.get('title')} created\")"
   ]
  },
  {
   "cell_type": "markdown",
   "metadata": {},
   "source": [
    "Create the `2. M : Practical Statistics (PS)` post"
   ]
  },
  {
   "cell_type": "code",
   "execution_count": 19,
   "metadata": {},
   "outputs": [
    {
     "name": "stdout",
     "output_type": "stream",
     "text": [
      "Material 2. M : Practical Statistics (PS) created\n"
     ]
    }
   ],
   "source": [
    "coursework = {\n",
    "    'title': '2. M : Practical Statistics (PS)',\n",
    "    'materials': [\n",
    "        {'link': {'url': 'https://bit.ly/ps_material?authuser=0'}},\n",
    "    ],\n",
    "    'topicId' : topic_id,\n",
    "    'state' : 'DRAFT'\n",
    "}\n",
    "coursework = service.courses().courseWorkMaterials().create(\n",
    "    courseId=course_id, body=coursework).execute()\n",
    "\n",
    "print(f\"Material {coursework.get('title')} created\")"
   ]
  },
  {
   "cell_type": "markdown",
   "metadata": {},
   "source": [
    "Create the `1. M : Programming for Data Science (P4DS)` post"
   ]
  },
  {
   "cell_type": "code",
   "execution_count": 20,
   "metadata": {},
   "outputs": [
    {
     "name": "stdout",
     "output_type": "stream",
     "text": [
      "Material 1. M : Programming for Data Science (P4DS) created\n"
     ]
    }
   ],
   "source": [
    "coursework = {\n",
    "    'title': '1. M : Programming for Data Science (P4DS)',\n",
    "    'materials': [\n",
    "        {'link': {'url': 'https://bit.ly/p4ds_material?authuser=0'}},\n",
    "    ],\n",
    "    'topicId' : topic_id,\n",
    "    'state' : 'DRAFT'\n",
    "}\n",
    "coursework = service.courses().courseWorkMaterials().create(\n",
    "    courseId=course_id, body=coursework).execute()\n",
    "\n",
    "print(f\"Material {coursework.get('title')} created\")"
   ]
  },
  {
   "cell_type": "markdown",
   "metadata": {},
   "source": [
    "# Quiz\n",
    "In the section, the user is going to post courseworks and materials that belongs to the topic `Quiz`"
   ]
  },
  {
   "cell_type": "markdown",
   "metadata": {},
   "source": [
    "Retrieve the corresponding topic's id"
   ]
  },
  {
   "cell_type": "code",
   "execution_count": 15,
   "metadata": {},
   "outputs": [
    {
     "data": {
      "text/plain": [
       "{'courseId': '621398536690',\n",
       " 'topicId': '621385910017',\n",
       " 'name': 'Quiz',\n",
       " 'updateTime': '2023-09-06T10:46:00.563Z'}"
      ]
     },
     "execution_count": 15,
     "metadata": {},
     "output_type": "execute_result"
    }
   ],
   "source": [
    "for topic in topics:\n",
    "    if topic['name'] == 'Quiz':\n",
    "        topic_id = topic['topicId']\n",
    "        break \n",
    "\n",
    "topic"
   ]
  },
  {
   "cell_type": "markdown",
   "metadata": {},
   "source": [
    "Create the `3. Q: Interactive Plotting (IP)` post"
   ]
  },
  {
   "cell_type": "code",
   "execution_count": 22,
   "metadata": {},
   "outputs": [
    {
     "name": "stdout",
     "output_type": "stream",
     "text": [
      "Assignment 3. Q: Interactive Plotting (IP) created\n"
     ]
    }
   ],
   "source": [
    "coursework = {\n",
    "    'title': '3. Q: Interactive Plotting (IP)',\n",
    "    'description': description.quiz['3. Q: Interactive Plotting (IP)'],\n",
    "    'materials': [\n",
    "        {'link': {'url': 'https://algoritmaonline.com/quizzes/interactive-plotting-quiz/?authuser=0'}}\n",
    "    ],\n",
    "    'topicId' : topic_id,\n",
    "    'workType': 'ASSIGNMENT',\n",
    "    'maxPoints': 1,\n",
    "    'state' : 'DRAFT'\n",
    "}\n",
    "coursework = service.courses().courseWork().create(\n",
    "    courseId=course_id, body=coursework).execute()\n",
    "\n",
    "print(f\"Assignment {coursework.get('title')} created\")"
   ]
  },
  {
   "cell_type": "markdown",
   "metadata": {},
   "source": [
    "Create the `2. Q: Data Visualization (DV)` post"
   ]
  },
  {
   "cell_type": "code",
   "execution_count": 23,
   "metadata": {},
   "outputs": [
    {
     "name": "stdout",
     "output_type": "stream",
     "text": [
      "Assignment 2. Q: Data Visualization (DV) created\n"
     ]
    }
   ],
   "source": [
    "coursework = {\n",
    "    'title': '2. Q: Data Visualization (DV)',\n",
    "    'description': description.quiz['2. Q: Data Visualization (DV)'],\n",
    "    'materials': [\n",
    "        {'link': {'url': 'https://algoritmaonline.com/courses/data-visualization-in-r/?authuser=0'}}\n",
    "    ],\n",
    "    'topicId' : topic_id,\n",
    "    'workType': 'ASSIGNMENT',\n",
    "    'maxPoints': 2,\n",
    "    'state' : 'DRAFT'\n",
    "}\n",
    "coursework = service.courses().courseWork().create(\n",
    "    courseId=course_id, body=coursework).execute()\n",
    "\n",
    "print(f\"Assignment {coursework.get('title')} created\")"
   ]
  },
  {
   "cell_type": "markdown",
   "metadata": {},
   "source": [
    "Create the `1. Q: Programming for Data Science (P4DS) & Practical Statistic (PS)` post"
   ]
  },
  {
   "cell_type": "code",
   "execution_count": 16,
   "metadata": {},
   "outputs": [
    {
     "name": "stdout",
     "output_type": "stream",
     "text": [
      "Assignment 1. Q: Programming for Data Science (P4DS) & Practical Statistic (PS) created\n"
     ]
    }
   ],
   "source": [
    "coursework = {\n",
    "    'title': '1. Q: Programming for Data Science (P4DS) & Practical Statistic (PS)',\n",
    "    'description': description.quiz['1. Q: Programming for Data Science (P4DS) & Practical Statistic (PS)'],\n",
    "    'materials': [\n",
    "        {'link': {'url': 'https://algoritmaonline.com/courses/practical-statistics-for-data-science/?authuser=0'}}\n",
    "    ],\n",
    "    'topicId' : topic_id,\n",
    "    'workType': 'ASSIGNMENT',\n",
    "    'maxPoints': 4,\n",
    "    'state' : 'DRAFT'\n",
    "}\n",
    "coursework = service.courses().courseWork().create(\n",
    "    courseId=course_id, body=coursework).execute()\n",
    "\n",
    "print(f\"Assignment {coursework.get('title')} created\")"
   ]
  },
  {
   "cell_type": "markdown",
   "metadata": {},
   "source": [
    "Create the `0. Q: Prerequisite Check` post"
   ]
  },
  {
   "cell_type": "code",
   "execution_count": 25,
   "metadata": {},
   "outputs": [
    {
     "name": "stdout",
     "output_type": "stream",
     "text": [
      "Assignment 0. Q: Prerequisite Check created\n"
     ]
    }
   ],
   "source": [
    "coursework = {\n",
    "    'title': '0. Q: Prerequisite Check',\n",
    "    'description': description.quiz['0. Q: Prerequisite Check'],\n",
    "    'materials': [\n",
    "        {'link': {'url': 'https://drive.google.com/file/d/1fkU61MnkI3H56AFpqrvnMPBUtMmepTT5/view?usp=drive_web&authuser=0'}}\n",
    "    ],\n",
    "    'topicId' : topic_id,\n",
    "    'workType': 'ASSIGNMENT',\n",
    "    'state' : 'DRAFT'\n",
    "}\n",
    "coursework = service.courses().courseWork().create(\n",
    "    courseId=course_id, body=coursework).execute()\n",
    "\n",
    "print(f\"Assignment {coursework.get('title')} created\")"
   ]
  },
  {
   "cell_type": "markdown",
   "metadata": {},
   "source": [
    "# Learning by Building\n",
    "In the section, the user is going to post courseworks and materials that belongs to the topic `Learning by Building`"
   ]
  },
  {
   "cell_type": "markdown",
   "metadata": {},
   "source": [
    "Retrieve the corresponding topic's id"
   ]
  },
  {
   "cell_type": "code",
   "execution_count": 26,
   "metadata": {},
   "outputs": [
    {
     "data": {
      "text/plain": [
       "{'courseId': '621398536690',\n",
       " 'topicId': '621387154997',\n",
       " 'name': 'Learning by Building',\n",
       " 'updateTime': '2023-09-06T10:45:26.610Z'}"
      ]
     },
     "execution_count": 26,
     "metadata": {},
     "output_type": "execute_result"
    }
   ],
   "source": [
    "for topic in topics:\n",
    "    if topic['name'] == 'Learning by Building':\n",
    "        topic_id = topic['topicId']\n",
    "        break \n",
    "\n",
    "topic"
   ]
  },
  {
   "cell_type": "markdown",
   "metadata": {},
   "source": [
    "Create the `3. LBB: Interactive Plotting` post"
   ]
  },
  {
   "cell_type": "code",
   "execution_count": 27,
   "metadata": {},
   "outputs": [
    {
     "name": "stdout",
     "output_type": "stream",
     "text": [
      "Assignment 3. LBB: Interactive Plotting created\n"
     ]
    }
   ],
   "source": [
    "coursework = {\n",
    "    'title': '3. LBB: Interactive Plotting',\n",
    "    'description': description.lbb['3. LBB: Interactive Plotting'],\n",
    "    'topicId' : topic_id,\n",
    "    'workType': 'ASSIGNMENT',\n",
    "    'maxPoints': 3,\n",
    "    'state' : 'DRAFT'\n",
    "}\n",
    "coursework = service.courses().courseWork().create(\n",
    "    courseId=course_id, body=coursework).execute()\n",
    "\n",
    "print(f\"Assignment {coursework.get('title')} created\")"
   ]
  },
  {
   "cell_type": "markdown",
   "metadata": {},
   "source": [
    "Create the `2. LBB: Data Visualization` post"
   ]
  },
  {
   "cell_type": "code",
   "execution_count": 28,
   "metadata": {},
   "outputs": [
    {
     "name": "stdout",
     "output_type": "stream",
     "text": [
      "Assignment 2. LBB: Data Visualization created\n"
     ]
    }
   ],
   "source": [
    "coursework = {\n",
    "    'title': '2. LBB: Data Visualization',\n",
    "    'description': description.lbb['2. LBB: Data Visualization'],\n",
    "    'topicId' : topic_id,\n",
    "    'workType': 'ASSIGNMENT',\n",
    "    'state' : 'DRAFT'\n",
    "}\n",
    "coursework = service.courses().courseWork().create(\n",
    "    courseId=course_id, body=coursework).execute()\n",
    "\n",
    "print(f\"Assignment {coursework.get('title')} created\")"
   ]
  },
  {
   "cell_type": "markdown",
   "metadata": {},
   "source": [
    "Create the `1. LBB: Programming for Data Science` post"
   ]
  },
  {
   "cell_type": "code",
   "execution_count": 29,
   "metadata": {},
   "outputs": [
    {
     "name": "stdout",
     "output_type": "stream",
     "text": [
      "Assignment 1. LBB: Programming for Data Science created\n"
     ]
    }
   ],
   "source": [
    "coursework = {\n",
    "    'title': '1. LBB: Programming for Data Science',\n",
    "    'description': description.lbb['1. LBB: Programming for Data Science'],\n",
    "    'topicId' : topic_id,\n",
    "    'workType': 'ASSIGNMENT',\n",
    "    'state' : 'DRAFT'\n",
    "}\n",
    "coursework = service.courses().courseWork().create(\n",
    "    courseId=course_id, body=coursework).execute()\n",
    "\n",
    "print(f\"Assignment {coursework.get('title')} created\")"
   ]
  },
  {
   "cell_type": "markdown",
   "metadata": {},
   "source": [
    "# Capstone Project\n",
    "In the section, the user is going to post courseworks and materials that belongs to the topic `Capstone Project`"
   ]
  },
  {
   "cell_type": "markdown",
   "metadata": {},
   "source": [
    "Retrieve the corresponding topic's id"
   ]
  },
  {
   "cell_type": "code",
   "execution_count": 30,
   "metadata": {},
   "outputs": [
    {
     "data": {
      "text/plain": [
       "{'courseId': '621398536690',\n",
       " 'topicId': '621385140075',\n",
       " 'name': 'Capstone Project',\n",
       " 'updateTime': '2023-09-06T10:45:26.079Z'}"
      ]
     },
     "execution_count": 30,
     "metadata": {},
     "output_type": "execute_result"
    }
   ],
   "source": [
    "for topic in topics:\n",
    "    if topic['name'] == 'Capstone Project':\n",
    "        topic_id = topic['topicId']\n",
    "        break \n",
    "\n",
    "topic"
   ]
  },
  {
   "cell_type": "markdown",
   "metadata": {},
   "source": [
    "Create the `Brief Capstone Data Visualization` post"
   ]
  },
  {
   "cell_type": "code",
   "execution_count": 31,
   "metadata": {},
   "outputs": [
    {
     "name": "stdout",
     "output_type": "stream",
     "text": [
      "Assignment Brief Capstone Data Visualization created\n"
     ]
    }
   ],
   "source": [
    "coursework = {\n",
    "    'title': 'Brief Capstone Data Visualization',\n",
    "    'description': description.capstone['Brief Capstone Data Visualization'],\n",
    "    'materials': [\n",
    "        {'link': {'url': 'https://rpubs.com/Algoritma/dv-capstone'}},\n",
    "        {'link': {'url': 'https://drive.google.com/file/d/1KQU0f2lH9HaMA1EK1DqBgEehTzyZDvxr/view?usp=drive_web&authuser=0'}}\n",
    "    ],\n",
    "    'topicId' : topic_id,\n",
    "    'workType': 'ASSIGNMENT',\n",
    "    'state' : 'DRAFT'\n",
    "}\n",
    "coursework = service.courses().courseWork().create(\n",
    "    courseId=course_id, body=coursework).execute()\n",
    "\n",
    "print(f\"Assignment {coursework.get('title')} created\")"
   ]
  },
  {
   "cell_type": "markdown",
   "metadata": {},
   "source": [
    "Create the `Capstone Data Visualization` post"
   ]
  },
  {
   "cell_type": "code",
   "execution_count": 32,
   "metadata": {},
   "outputs": [
    {
     "name": "stdout",
     "output_type": "stream",
     "text": [
      "Assignment Capstone Data Visualization created\n"
     ]
    }
   ],
   "source": [
    "coursework = {\n",
    "    'title': 'Capstone Data Visualization',\n",
    "    'description': description.capstone['Capstone Data Visualization'],\n",
    "    'materials': [\n",
    "        {'link': {'url': 'https://rpubs.com/Algoritma/dv-capstone'}}\n",
    "    ],\n",
    "    'topicId' : topic_id,\n",
    "    'workType': 'ASSIGNMENT',\n",
    "    'maxPoints': 30,\n",
    "    'state' : 'DRAFT'\n",
    "}\n",
    "coursework = service.courses().courseWork().create(\n",
    "    courseId=course_id, body=coursework).execute()\n",
    "\n",
    "print(f\"Assignment {coursework.get('title')} created\")"
   ]
  }
 ],
 "metadata": {
  "kernelspec": {
   "display_name": "classroom",
   "language": "python",
   "name": "python3"
  },
  "language_info": {
   "codemirror_mode": {
    "name": "ipython",
    "version": 3
   },
   "file_extension": ".py",
   "mimetype": "text/x-python",
   "name": "python",
   "nbconvert_exporter": "python",
   "pygments_lexer": "ipython3",
   "version": "3.10.12"
  },
  "orig_nbformat": 4
 },
 "nbformat": 4,
 "nbformat_minor": 2
}
