{
 "cells": [
  {
   "cell_type": "code",
   "execution_count": 1,
   "metadata": {},
   "outputs": [],
   "source": [
    "import os.path\n",
    "\n",
    "from google.auth.transport.requests import Request\n",
    "from google.oauth2.credentials import Credentials\n",
    "from google_auth_oauthlib.flow import InstalledAppFlow\n",
    "from googleapiclient.discovery import build\n",
    "from googleapiclient.errors import HttpError"
   ]
  },
  {
   "cell_type": "code",
   "execution_count": 2,
   "metadata": {},
   "outputs": [],
   "source": [
    "SCOPES = ['https://www.googleapis.com/auth/classroom.courses.readonly', 'https://www.googleapis.com/auth/classroom.coursework.students', \n",
    "          'https://www.googleapis.com/auth/classroom.courseworkmaterials', 'https://www.googleapis.com/auth/classroom.topics']"
   ]
  },
  {
   "cell_type": "code",
   "execution_count": 3,
   "metadata": {},
   "outputs": [],
   "source": [
    "creds = None\n",
    "\n",
    "if os.path.exists('token.json'):\n",
    "    creds = Credentials.from_authorized_user_file('token.json', SCOPES)\n",
    "# If there are no (valid) credentials available, let the user log in.\n",
    "if not creds or not creds.valid:\n",
    "    if creds and creds.expired and creds.refresh_token:\n",
    "        creds.refresh(Request())\n",
    "    else:\n",
    "        flow = InstalledAppFlow.from_client_secrets_file(\n",
    "            'credentials.json', SCOPES)\n",
    "        creds = flow.run_local_server(port=0)\n",
    "    # Save the credentials for the next run\n",
    "    with open('token.json', 'w') as token:\n",
    "        token.write(creds.to_json())\n",
    "\n",
    "service = build('classroom', 'v1', credentials=creds)"
   ]
  },
  {
   "cell_type": "markdown",
   "metadata": {},
   "source": [
    "# Course"
   ]
  },
  {
   "cell_type": "code",
   "execution_count": 4,
   "metadata": {},
   "outputs": [
    {
     "name": "stdout",
     "output_type": "stream",
     "text": [
      "Courses:\n",
      "- Automation\n",
      "- Wizard Data Analytics\n",
      "- Vulcan Machine Learning\n",
      "- Vulcan Data Visualization\n",
      "- Vulcan Data Analytics\n",
      "- Theia Machine Learning\n",
      "- Vulcan Scholarship\n",
      "- Ultron Data Analytics\n",
      "- Ultron Data Visualization\n",
      "- Ultron Machine Learning\n"
     ]
    }
   ],
   "source": [
    "# Call the Classroom API\n",
    "results = service.courses().list(pageSize=10).execute()\n",
    "courses = results.get('courses', [])\n",
    "\n",
    "if not courses:\n",
    "    print('No courses found.')\n",
    "\n",
    "# Prints the names of the first 10 courses.\n",
    "print('Courses:')\n",
    "for course in courses:\n",
    "    print(f\"- {course['name']}\")"
   ]
  },
  {
   "cell_type": "code",
   "execution_count": 5,
   "metadata": {},
   "outputs": [
    {
     "name": "stdout",
     "output_type": "stream",
     "text": [
      "Automation found with ID 616952989203\n"
     ]
    }
   ],
   "source": [
    "course_input = input(\"Enter Course Name: \")\n",
    "course_id = None\n",
    "\n",
    "for course in courses:\n",
    "    if course_input == course['name']:\n",
    "        course_id = course['id']\n",
    "        break\n",
    "\n",
    "if course_id == None:\n",
    "    print(f\"ERROR: {course_input} course not found\")\n",
    "else:\n",
    "    print(f'{course_input} found with ID {course_id}')"
   ]
  },
  {
   "cell_type": "markdown",
   "metadata": {},
   "source": [
    "# Topic"
   ]
  },
  {
   "cell_type": "code",
   "execution_count": 6,
   "metadata": {},
   "outputs": [],
   "source": [
    "topic_list = ['Capstone Project', 'Learning by Building', \n",
    "              'Quiz', 'Additional Assignment', 'Lecture Notes',\n",
    "              'Material', 'Administration Deck']"
   ]
  },
  {
   "cell_type": "code",
   "execution_count": 7,
   "metadata": {},
   "outputs": [
    {
     "name": "stdout",
     "output_type": "stream",
     "text": [
      "An error occurred: <HttpError 409 when requesting https://classroom.googleapis.com/v1/courses/616952989203/topics?alt=json returned \"Requested entity already exists\". Details: \"Requested entity already exists\">\n"
     ]
    }
   ],
   "source": [
    "try:\n",
    "  for name in topic_list:\n",
    "    topic = {\n",
    "        \"name\": name\n",
    "    }\n",
    "    response = service.courses().topics().create(\n",
    "      courseId=course_id,\n",
    "      body=topic).execute()\n",
    "\n",
    "    print('Topic created: {} - {}'.format(response['name'], response['topicId']))\n",
    "\n",
    "except HttpError as error:\n",
    "  print(f\"An error occurred: {error}\")"
   ]
  },
  {
   "cell_type": "code",
   "execution_count": 8,
   "metadata": {},
   "outputs": [
    {
     "name": "stdout",
     "output_type": "stream",
     "text": [
      "Topics : \n",
      "Administration Deck - 617018691211\n",
      "Material - 617017450722\n",
      "Lecture Notes - 617018677375\n",
      "Additional Assignment - 617017420534\n",
      "Quiz - 617018677370\n",
      "Learning by Building - 617017468106\n",
      "Capstone Project - 617016752483\n"
     ]
    }
   ],
   "source": [
    "topics = []\n",
    "\n",
    "response = service.courses().topics().list(\n",
    "    courseId=course_id).execute()\n",
    "topics.extend(response.get('topic', []))\n",
    "\n",
    "print('Topics : ')\n",
    "for topic in topics:\n",
    "    print('{} - {}'.format(topic['name'], topic['topicId']))"
   ]
  },
  {
   "cell_type": "code",
   "execution_count": 9,
   "metadata": {},
   "outputs": [],
   "source": [
    "from assets import Classwork\n",
    "\n",
    "description = Classwork()"
   ]
  },
  {
   "cell_type": "markdown",
   "metadata": {},
   "source": [
    "# Administration Deck"
   ]
  },
  {
   "cell_type": "code",
   "execution_count": 14,
   "metadata": {},
   "outputs": [
    {
     "data": {
      "text/plain": [
       "{'courseId': '616952989203',\n",
       " 'topicId': '617018691211',\n",
       " 'name': 'Administration Deck',\n",
       " 'updateTime': '2023-08-01T04:33:47.411Z'}"
      ]
     },
     "execution_count": 14,
     "metadata": {},
     "output_type": "execute_result"
    }
   ],
   "source": [
    "for topic in topics:\n",
    "    if topic['name'] == 'Administration Deck':\n",
    "        break \n",
    "\n",
    "topic"
   ]
  },
  {
   "cell_type": "code",
   "execution_count": 22,
   "metadata": {},
   "outputs": [
    {
     "name": "stdout",
     "output_type": "stream",
     "text": [
      "Material Permohonan Sesi Mentoring created\n"
     ]
    }
   ],
   "source": [
    "coursework = {\n",
    "    'title': 'Permohonan Sesi Mentoring',\n",
    "    'description': description.administration_deck['Permohonan Sesi Mentoring'],\n",
    "    'materials': [\n",
    "        {'link': {'url': 'http://bit.ly/mentoring-onsite?authuser=0'}},\n",
    "        {'link': {'url': 'https://github.com/teamalgoritma/community?authuser=0'}},\n",
    "        {'link': {'url': 'https://drive.google.com/file/d/1SuU3e8hg9jfMO25kWang1MIaaePa2x-Y/view?usp=drive_web&authuser=0'}},\n",
    "    ],\n",
    "    'topicId' : topic['topicId'],\n",
    "    'state' : 'DRAFT'\n",
    "}\n",
    "coursework = service.courses().courseWorkMaterials().create(\n",
    "    courseId=course_id, body=coursework).execute()\n",
    "\n",
    "print(f\"Material {coursework.get('title')} created\")"
   ]
  },
  {
   "cell_type": "code",
   "execution_count": 23,
   "metadata": {},
   "outputs": [
    {
     "name": "stdout",
     "output_type": "stream",
     "text": [
      "Material How to Ask Questions created\n"
     ]
    }
   ],
   "source": [
    "coursework = {\n",
    "    'title': 'How to Ask Questions',\n",
    "    'description': description.administration_deck['How to Ask Questions'],\n",
    "    'materials': [\n",
    "        {'link': {'url': 'https://github.com/teamalgoritma/community?authuser=0'}},\n",
    "    ],\n",
    "    'topicId' : topic['topicId'],\n",
    "    'state' : 'DRAFT'\n",
    "}\n",
    "coursework = service.courses().courseWorkMaterials().create(\n",
    "    courseId=course_id, body=coursework).execute()\n",
    "\n",
    "print(f\"Material {coursework.get('title')} created\")"
   ]
  },
  {
   "cell_type": "code",
   "execution_count": 24,
   "metadata": {},
   "outputs": [
    {
     "name": "stdout",
     "output_type": "stream",
     "text": [
      "Material Administration Deck created\n"
     ]
    }
   ],
   "source": [
    "coursework = {\n",
    "    'title': 'Administration Deck',\n",
    "    'description': description.administration_deck['Administration Deck'],\n",
    "    'materials': [\n",
    "        {'link': {'url': 'https://drive.google.com/file/d/1ivjryti41IekS55HSj43bC8TXLaZZrii/view?usp=drive_web&authuser=0'}},\n",
    "        {'link': {'url': 'https://drive.google.com/file/d/1vUG9v_Aie-aHW4U93FD7LKcjfxilHG5u/view?usp=drive_web&authuser=0'}}\n",
    "    ],\n",
    "    'topicId' : topic['topicId'],\n",
    "    'state' : 'DRAFT'\n",
    "}\n",
    "coursework = service.courses().courseWorkMaterials().create(\n",
    "    courseId=course_id, body=coursework).execute()\n",
    "\n",
    "print(f\"Material {coursework.get('title')} created\")"
   ]
  },
  {
   "cell_type": "markdown",
   "metadata": {},
   "source": [
    "# Material"
   ]
  },
  {
   "cell_type": "code",
   "execution_count": 25,
   "metadata": {},
   "outputs": [
    {
     "data": {
      "text/plain": [
       "{'courseId': '616952989203',\n",
       " 'topicId': '617017450722',\n",
       " 'name': 'Material',\n",
       " 'updateTime': '2023-08-01T04:33:45.732Z'}"
      ]
     },
     "execution_count": 25,
     "metadata": {},
     "output_type": "execute_result"
    }
   ],
   "source": [
    "for topic in topics:\n",
    "    if topic['name'] == 'Material':\n",
    "        break \n",
    "\n",
    "topic"
   ]
  },
  {
   "cell_type": "code",
   "execution_count": 26,
   "metadata": {},
   "outputs": [
    {
     "name": "stdout",
     "output_type": "stream",
     "text": [
      "Material 4. M : Interactive Plotting (IP) created\n"
     ]
    }
   ],
   "source": [
    "coursework = {\n",
    "    'title': '4. M : Interactive Plotting (IP)',\n",
    "    'materials': [\n",
    "        {'link': {'url': 'https://bit.ly/ip_material?authuser=0'}},\n",
    "    ],\n",
    "    'topicId' : topic['topicId'],\n",
    "    'state' : 'DRAFT'\n",
    "}\n",
    "coursework = service.courses().courseWorkMaterials().create(\n",
    "    courseId=course_id, body=coursework).execute()\n",
    "\n",
    "print(f\"Material {coursework.get('title')} created\")"
   ]
  },
  {
   "cell_type": "code",
   "execution_count": 27,
   "metadata": {},
   "outputs": [
    {
     "name": "stdout",
     "output_type": "stream",
     "text": [
      "Material 3. M : Data Visualization (DV) created\n"
     ]
    }
   ],
   "source": [
    "coursework = {\n",
    "    'title': '3. M : Data Visualization (DV)',\n",
    "    'materials': [\n",
    "        {'link': {'url': 'https://bit.ly/dviz_material?authuser=0'}},\n",
    "    ],\n",
    "    'topicId' : topic['topicId'],\n",
    "    'state' : 'DRAFT'\n",
    "}\n",
    "coursework = service.courses().courseWorkMaterials().create(\n",
    "    courseId=course_id, body=coursework).execute()\n",
    "\n",
    "print(f\"Material {coursework.get('title')} created\")"
   ]
  },
  {
   "cell_type": "code",
   "execution_count": 28,
   "metadata": {},
   "outputs": [
    {
     "name": "stdout",
     "output_type": "stream",
     "text": [
      "Material 2. M : Practical Statistics (PS) created\n"
     ]
    }
   ],
   "source": [
    "coursework = {\n",
    "    'title': '2. M : Practical Statistics (PS)',\n",
    "    'materials': [\n",
    "        {'link': {'url': 'https://bit.ly/ps_material?authuser=0'}},\n",
    "    ],\n",
    "    'topicId' : topic['topicId'],\n",
    "    'state' : 'DRAFT'\n",
    "}\n",
    "coursework = service.courses().courseWorkMaterials().create(\n",
    "    courseId=course_id, body=coursework).execute()\n",
    "\n",
    "print(f\"Material {coursework.get('title')} created\")"
   ]
  },
  {
   "cell_type": "code",
   "execution_count": 29,
   "metadata": {},
   "outputs": [
    {
     "name": "stdout",
     "output_type": "stream",
     "text": [
      "Material 1. M : Programming for Data Science (P4DS) created\n"
     ]
    }
   ],
   "source": [
    "coursework = {\n",
    "    'title': '1. M : Programming for Data Science (P4DS)',\n",
    "    'materials': [\n",
    "        {'link': {'url': 'https://bit.ly/p4ds_material?authuser=0'}},\n",
    "    ],\n",
    "    'topicId' : topic['topicId'],\n",
    "    'state' : 'DRAFT'\n",
    "}\n",
    "coursework = service.courses().courseWorkMaterials().create(\n",
    "    courseId=course_id, body=coursework).execute()\n",
    "\n",
    "print(f\"Material {coursework.get('title')} created\")"
   ]
  },
  {
   "cell_type": "markdown",
   "metadata": {},
   "source": [
    "# Quiz"
   ]
  },
  {
   "cell_type": "code",
   "execution_count": 9,
   "metadata": {},
   "outputs": [
    {
     "data": {
      "text/plain": [
       "{'courseId': '616952989203',\n",
       " 'topicId': '617018677370',\n",
       " 'name': 'Quiz',\n",
       " 'updateTime': '2023-08-01T04:33:40.769Z'}"
      ]
     },
     "execution_count": 9,
     "metadata": {},
     "output_type": "execute_result"
    }
   ],
   "source": [
    "for topic in topics:\n",
    "    if topic['name'] == 'Quiz':\n",
    "        break \n",
    "\n",
    "topic"
   ]
  },
  {
   "cell_type": "code",
   "execution_count": 10,
   "metadata": {},
   "outputs": [
    {
     "name": "stdout",
     "output_type": "stream",
     "text": [
      "Assignment 3. Q: Interactive Plotting (IP) created\n"
     ]
    }
   ],
   "source": [
    "coursework = {\n",
    "    'title': '3. Q: Interactive Plotting (IP)',\n",
    "    'description': description.quiz['3. Q: Interactive Plotting (IP)'],\n",
    "    'materials': [\n",
    "        {'link': {'url': 'https://algoritmaonline.com/quizzes/interactive-plotting-quiz/?authuser=0'}}\n",
    "    ],\n",
    "    'topicId' : topic['topicId'],\n",
    "    'workType': 'ASSIGNMENT',\n",
    "    'maxPoints': 1,\n",
    "    'state' : 'DRAFT'\n",
    "}\n",
    "coursework = service.courses().courseWork().create(\n",
    "    courseId=course_id, body=coursework).execute()\n",
    "\n",
    "print(f\"Assignment {coursework.get('title')} created\")"
   ]
  },
  {
   "cell_type": "code",
   "execution_count": 11,
   "metadata": {},
   "outputs": [
    {
     "name": "stdout",
     "output_type": "stream",
     "text": [
      "Assignment 2. Q: Data Visualization (DV) created\n"
     ]
    }
   ],
   "source": [
    "coursework = {\n",
    "    'title': '2. Q: Data Visualization (DV)',\n",
    "    'description': description.quiz['2. Q: Data Visualization (DV)'],\n",
    "    'materials': [\n",
    "        {'link': {'url': 'https://algoritmaonline.com/courses/data-visualization-in-r/?authuser=0'}}\n",
    "    ],\n",
    "    'topicId' : topic['topicId'],\n",
    "    'workType': 'ASSIGNMENT',\n",
    "    'maxPoints': 2,\n",
    "    'state' : 'DRAFT'\n",
    "}\n",
    "coursework = service.courses().courseWork().create(\n",
    "    courseId=course_id, body=coursework).execute()\n",
    "\n",
    "print(f\"Assignment {coursework.get('title')} created\")"
   ]
  },
  {
   "cell_type": "code",
   "execution_count": 12,
   "metadata": {},
   "outputs": [
    {
     "name": "stdout",
     "output_type": "stream",
     "text": [
      "Assignment 1. Q: Programming for Data Science (P4DS) & Practical Statistic (PS) created\n"
     ]
    }
   ],
   "source": [
    "coursework = {\n",
    "    'title': '1. Q: Programming for Data Science (P4DS) & Practical Statistic (PS)',\n",
    "    'description': description.quiz['1. Q: Programming for Data Science (P4DS) & Practical Statistic (PS)'],\n",
    "    'materials': [\n",
    "        {'link': {'url': 'https://algoritmaonline.com/courses/practical-statistics-for-data-science/?authuser=0'}}\n",
    "    ],\n",
    "    'topicId' : topic['topicId'],\n",
    "    'workType': 'ASSIGNMENT',\n",
    "    'maxPoints': 4,\n",
    "    'state' : 'DRAFT'\n",
    "}\n",
    "coursework = service.courses().courseWork().create(\n",
    "    courseId=course_id, body=coursework).execute()\n",
    "\n",
    "print(f\"Assignment {coursework.get('title')} created\")"
   ]
  },
  {
   "cell_type": "code",
   "execution_count": 13,
   "metadata": {},
   "outputs": [
    {
     "name": "stdout",
     "output_type": "stream",
     "text": [
      "Assignment 0. Q: Prerequisite Check created\n"
     ]
    }
   ],
   "source": [
    "coursework = {\n",
    "    'title': '0. Q: Prerequisite Check',\n",
    "    'description': description.quiz['0. Q: Prerequisite Check'],\n",
    "    'materials': [\n",
    "        {'link': {'url': 'https://drive.google.com/file/d/1fkU61MnkI3H56AFpqrvnMPBUtMmepTT5/view?usp=drive_web&authuser=0'}}\n",
    "    ],\n",
    "    'topicId' : topic['topicId'],\n",
    "    'workType': 'ASSIGNMENT',\n",
    "    'state' : 'DRAFT'\n",
    "}\n",
    "coursework = service.courses().courseWork().create(\n",
    "    courseId=course_id, body=coursework).execute()\n",
    "\n",
    "print(f\"Assignment {coursework.get('title')} created\")"
   ]
  },
  {
   "cell_type": "markdown",
   "metadata": {},
   "source": [
    "# Learning by Building"
   ]
  },
  {
   "cell_type": "code",
   "execution_count": 13,
   "metadata": {},
   "outputs": [
    {
     "data": {
      "text/plain": [
       "{'courseId': '616952989203',\n",
       " 'topicId': '617017468106',\n",
       " 'name': 'Learning by Building',\n",
       " 'updateTime': '2023-08-01T14:56:44.723Z'}"
      ]
     },
     "execution_count": 13,
     "metadata": {},
     "output_type": "execute_result"
    }
   ],
   "source": [
    "for topic in topics:\n",
    "    if topic['name'] == 'Learning by Building':\n",
    "        break \n",
    "\n",
    "topic"
   ]
  },
  {
   "cell_type": "code",
   "execution_count": 14,
   "metadata": {},
   "outputs": [
    {
     "name": "stdout",
     "output_type": "stream",
     "text": [
      "Assignment 3. LBB: Interactive Plotting created\n"
     ]
    }
   ],
   "source": [
    "coursework = {\n",
    "    'title': '3. LBB: Interactive Plotting',\n",
    "    'description': description.lbb['3. LBB: Interactive Plotting'],\n",
    "    'topicId' : topic['topicId'],\n",
    "    'workType': 'ASSIGNMENT',\n",
    "    'maxPoints': 3,\n",
    "    'state' : 'DRAFT'\n",
    "}\n",
    "coursework = service.courses().courseWork().create(\n",
    "    courseId=course_id, body=coursework).execute()\n",
    "\n",
    "print(f\"Assignment {coursework.get('title')} created\")"
   ]
  },
  {
   "cell_type": "code",
   "execution_count": 16,
   "metadata": {},
   "outputs": [
    {
     "name": "stdout",
     "output_type": "stream",
     "text": [
      "Assignment 2. LBB: Data Visualization created\n"
     ]
    }
   ],
   "source": [
    "coursework = {\n",
    "    'title': '2. LBB: Data Visualization',\n",
    "    'description': description.lbb['2. LBB: Data Visualization'],\n",
    "    'topicId' : topic['topicId'],\n",
    "    'workType': 'ASSIGNMENT',\n",
    "    'state' : 'DRAFT'\n",
    "}\n",
    "coursework = service.courses().courseWork().create(\n",
    "    courseId=course_id, body=coursework).execute()\n",
    "\n",
    "print(f\"Assignment {coursework.get('title')} created\")"
   ]
  },
  {
   "cell_type": "code",
   "execution_count": 18,
   "metadata": {},
   "outputs": [
    {
     "name": "stdout",
     "output_type": "stream",
     "text": [
      "Assignment 1. LBB: Programming for Data Science  created\n"
     ]
    }
   ],
   "source": [
    "coursework = {\n",
    "    'title': '1. LBB: Programming for Data Science',\n",
    "    'description': description.lbb['1. LBB: Programming for Data Science'],\n",
    "    'topicId' : topic['topicId'],\n",
    "    'workType': 'ASSIGNMENT',\n",
    "    'state' : 'DRAFT'\n",
    "}\n",
    "coursework = service.courses().courseWork().create(\n",
    "    courseId=course_id, body=coursework).execute()\n",
    "\n",
    "print(f\"Assignment {coursework.get('title')} created\")"
   ]
  },
  {
   "cell_type": "markdown",
   "metadata": {},
   "source": [
    "# Capstone Project"
   ]
  },
  {
   "cell_type": "code",
   "execution_count": 10,
   "metadata": {},
   "outputs": [
    {
     "data": {
      "text/plain": [
       "{'courseId': '616952989203',\n",
       " 'topicId': '617016752483',\n",
       " 'name': 'Capstone Project',\n",
       " 'updateTime': '2023-08-01T04:33:37.402Z'}"
      ]
     },
     "execution_count": 10,
     "metadata": {},
     "output_type": "execute_result"
    }
   ],
   "source": [
    "for topic in topics:\n",
    "    if topic['name'] == 'Capstone Project':\n",
    "        break \n",
    "\n",
    "topic"
   ]
  },
  {
   "cell_type": "code",
   "execution_count": 11,
   "metadata": {},
   "outputs": [
    {
     "name": "stdout",
     "output_type": "stream",
     "text": [
      "Assignment Brief Capstone Data Visualization created\n"
     ]
    }
   ],
   "source": [
    "coursework = {\n",
    "    'title': 'Brief Capstone Data Visualization',\n",
    "    'description': description.capstone['Brief Capstone Data Visualization'],\n",
    "    'materials': [\n",
    "        {'link': {'url': 'https://rpubs.com/AlgoritmaAcademy/dv-capstone?authuser=0'}},\n",
    "        {'link': {'url': 'https://drive.google.com/file/d/1KQU0f2lH9HaMA1EK1DqBgEehTzyZDvxr/view?usp=drive_web&authuser=0'}}\n",
    "    ],\n",
    "    'topicId' : topic['topicId'],\n",
    "    'workType': 'ASSIGNMENT',\n",
    "    'state' : 'DRAFT'\n",
    "}\n",
    "coursework = service.courses().courseWork().create(\n",
    "    courseId=course_id, body=coursework).execute()\n",
    "\n",
    "print(f\"Assignment {coursework.get('title')} created\")"
   ]
  },
  {
   "cell_type": "code",
   "execution_count": 12,
   "metadata": {},
   "outputs": [
    {
     "name": "stdout",
     "output_type": "stream",
     "text": [
      "Assignment Capstone Data Visualization created\n"
     ]
    }
   ],
   "source": [
    "coursework = {\n",
    "    'title': 'Capstone Data Visualization',\n",
    "    'description': description.capstone['Capstone Data Visualization'],\n",
    "    'materials': [\n",
    "        {'link': {'url': 'https://rpubs.com/AlgoritmaAcademy/dv-capstone?authuser=0'}}\n",
    "    ],\n",
    "    'topicId' : topic['topicId'],\n",
    "    'workType': 'ASSIGNMENT',\n",
    "    'maxPoints': 30,\n",
    "    'state' : 'DRAFT'\n",
    "}\n",
    "coursework = service.courses().courseWork().create(\n",
    "    courseId=course_id, body=coursework).execute()\n",
    "\n",
    "print(f\"Assignment {coursework.get('title')} created\")"
   ]
  }
 ],
 "metadata": {
  "kernelspec": {
   "display_name": "classroom",
   "language": "python",
   "name": "python3"
  },
  "language_info": {
   "codemirror_mode": {
    "name": "ipython",
    "version": 3
   },
   "file_extension": ".py",
   "mimetype": "text/x-python",
   "name": "python",
   "nbconvert_exporter": "python",
   "pygments_lexer": "ipython3",
   "version": "3.10.12"
  },
  "orig_nbformat": 4
 },
 "nbformat": 4,
 "nbformat_minor": 2
}
