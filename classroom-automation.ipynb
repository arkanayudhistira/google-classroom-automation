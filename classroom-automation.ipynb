{
 "cells": [
  {
   "cell_type": "code",
   "execution_count": 4,
   "metadata": {},
   "outputs": [],
   "source": [
    "import os.path\n",
    "\n",
    "from google.auth.transport.requests import Request\n",
    "from google.oauth2.credentials import Credentials\n",
    "from google_auth_oauthlib.flow import InstalledAppFlow\n",
    "from googleapiclient.discovery import build\n",
    "from googleapiclient.errors import HttpError"
   ]
  },
  {
   "cell_type": "code",
   "execution_count": 5,
   "metadata": {},
   "outputs": [],
   "source": [
    "SCOPES = ['https://www.googleapis.com/auth/classroom.courses.readonly', 'https://www.googleapis.com/auth/classroom.coursework.students', \n",
    "          'https://www.googleapis.com/auth/classroom.courseworkmaterials', 'https://www.googleapis.com/auth/classroom.topics']"
   ]
  },
  {
   "cell_type": "code",
   "execution_count": 6,
   "metadata": {},
   "outputs": [],
   "source": [
    "creds = None\n",
    "\n",
    "if os.path.exists('token.json'):\n",
    "    creds = Credentials.from_authorized_user_file('token.json', SCOPES)\n",
    "# If there are no (valid) credentials available, let the user log in.\n",
    "if not creds or not creds.valid:\n",
    "    if creds and creds.expired and creds.refresh_token:\n",
    "        creds.refresh(Request())\n",
    "    else:\n",
    "        flow = InstalledAppFlow.from_client_secrets_file(\n",
    "            'credentials.json', SCOPES)\n",
    "        creds = flow.run_local_server(port=0)\n",
    "    # Save the credentials for the next run\n",
    "    with open('token.json', 'w') as token:\n",
    "        token.write(creds.to_json())\n",
    "\n",
    "service = build('classroom', 'v1', credentials=creds)"
   ]
  },
  {
   "cell_type": "code",
   "execution_count": 35,
   "metadata": {},
   "outputs": [
    {
     "name": "stdout",
     "output_type": "stream",
     "text": [
      "Courses:\n",
      "- Automation\n",
      "- Wizard Data Analytics\n",
      "- Vulcan Machine Learning\n",
      "- Vulcan Data Visualization\n",
      "- Vulcan Data Analytics\n",
      "- Theia Machine Learning\n",
      "- Vulcan Scholarship\n",
      "- Ultron Data Analytics\n",
      "- Ultron Data Visualization\n",
      "- Ultron Machine Learning\n"
     ]
    }
   ],
   "source": [
    "# Call the Classroom API\n",
    "results = service.courses().list(pageSize=10).execute()\n",
    "courses = results.get('courses', [])\n",
    "\n",
    "if not courses:\n",
    "    print('No courses found.')\n",
    "\n",
    "# Prints the names of the first 10 courses.\n",
    "print('Courses:')\n",
    "for course in courses:\n",
    "    print(f\"- {course['name']}\")"
   ]
  },
  {
   "cell_type": "code",
   "execution_count": 37,
   "metadata": {},
   "outputs": [
    {
     "name": "stdout",
     "output_type": "stream",
     "text": [
      "Automation found with ID 616952989203\n"
     ]
    }
   ],
   "source": [
    "course_input = input(\"Enter Course Name: \")\n",
    "course_id = None\n",
    "\n",
    "for course in courses:\n",
    "    if course_input == course['name']:\n",
    "        course_id = course['id']\n",
    "        break\n",
    "\n",
    "if course_id == None:\n",
    "    print(f\"ERROR: {course_input} course not found\")\n",
    "else:\n",
    "    print(f'{course_input} found with ID {course_id}')"
   ]
  },
  {
   "cell_type": "code",
   "execution_count": 8,
   "metadata": {},
   "outputs": [],
   "source": [
    "topic_list = ['Capstone Project', 'Learning by Bulding', \n",
    "              'Quiz', 'Additional Assignment', 'Lecture Notes',\n",
    "              'Material', 'Administration Deck']"
   ]
  },
  {
   "cell_type": "code",
   "execution_count": 9,
   "metadata": {},
   "outputs": [
    {
     "name": "stdout",
     "output_type": "stream",
     "text": [
      "An error occurred: <HttpError 409 when requesting https://classroom.googleapis.com/v1/courses/616952989203/topics?alt=json returned \"Requested entity already exists\". Details: \"Requested entity already exists\">\n"
     ]
    }
   ],
   "source": [
    "try:\n",
    "  for name in topic_list:\n",
    "    topic = {\n",
    "        \"name\": name\n",
    "    }\n",
    "    response = service.courses().topics().create(\n",
    "      courseId=course_id,\n",
    "      body=topic).execute()\n",
    "\n",
    "    print('Topic created: {} - {}'.format(response['name'], response['topicId']))\n",
    "\n",
    "except HttpError as error:\n",
    "  print(f\"An error occurred: {error}\")"
   ]
  },
  {
   "cell_type": "code",
   "execution_count": 10,
   "metadata": {},
   "outputs": [
    {
     "name": "stdout",
     "output_type": "stream",
     "text": [
      "Topics : \n",
      "Administration Deck - 617018691211\n",
      "Material - 617017450722\n",
      "Lecture Notes - 617018677375\n",
      "Additional Assignment - 617017420534\n",
      "Quiz - 617018677370\n",
      "Learning by Bulding - 617017468106\n",
      "Capstone Project - 617016752483\n"
     ]
    }
   ],
   "source": [
    "topics = []\n",
    "\n",
    "response = service.courses().topics().list(\n",
    "    courseId=course_id).execute()\n",
    "topics.extend(response.get('topic', []))\n",
    "\n",
    "print('Topics : ')\n",
    "for topic in topics:\n",
    "    print('{} - {}'.format(topic['name'], topic['topicId']))"
   ]
  },
  {
   "cell_type": "code",
   "execution_count": 9,
   "metadata": {},
   "outputs": [
    {
     "name": "stdout",
     "output_type": "stream",
     "text": [
      "Assignment created with ID 617018128546\n"
     ]
    }
   ],
   "source": [
    "coursework = {\n",
    "    'title': '6: LBB: Neural Network & Deep Learning',\n",
    "    'description': '''Dear Bapak/Ibu,\n",
    "\n",
    "    Selamat atas keberhasilan-nya melewati 4 hari pembelajaran di kelas Neural Network dan Deep Learning! Dalam rangka meningkatkan kemampuan Bapak dan Ibu dalam mengimplementasikan ilmu yang didapatkan di kelas, kami menyediakan modul Learn by Building sebagai sarana Bapak dan Ibu untuk berlatih dalam membangun study case Neural Network dan Deep Learning.\n",
    "\n",
    "    Berikut merupakan beberapa contoh Neural Network dan Deep Learning yang mungkin bisa menjadi acuan atau inspirasi Bapak/Ibu membuat sebuah study case:\n",
    "\n",
    "    - https://rpubs.com/meilinie/lbbnn\n",
    "    - (TABULAR) https://github.com/bagasbgy/keras-examples/tree/classification-dense\n",
    "    - (IMAGE) https://github.com/bagasbgy/keras-examples/tree/image_classification-dense\n",
    "\n",
    "    Kami sangat menyarankan bagi Bapak/Ibu yang berencana untuk ikut serta dalam Algoritma Career Support agar dapat mengerjakan modul tambahan ini sehingga dapat ditambahkan sebagai portofolio pribadi. Hal tersebut akan sangat membantu recruiter untuk memahami tingkat pengalaman case hands-on Bapak/Ibu.\n",
    "\n",
    "    Berikut beberapa saran dataset yang bisa Bapak/Ibu gunakan sebagai case Neural Network dan Deep Learning analysis pada modul ini:\n",
    "\n",
    "    - (TABULAR) IBM Attrition dataset https://github.com/bagasbgy/keras-examples/tree/classification-dense/data/data-clean.csv/ Sumber data didapat dari: https://www.kaggle.com/pavansubhasht/ibm-hr-analytics-attrition-dataset atau https://www.ibm.com/communities/analytics/watson-analytics-blog/hr-employee-attrition/\n",
    "    - (IMAGE) MNIST dataset https://github.com/bagasbgy/keras-examples/tree/image_classification-dense/data/ Sumber data didapat dari https://www.kaggle.com/scolianni/mnistasjpg#img_10071.jpg\n",
    "    - atau menggunakan data pilihan Bapak atau Ibu sendiri.\n",
    "\n",
    "    Dalam pembuatan report, jangan lupa untuk meliputi hal-hal berikut:\n",
    "\n",
    "    - Preprocess dataset, terutama part di mana data dipersiapkan agar dapat digunakan dalam framework keras\n",
    "    - Pembuatan arsitektur neural network, dan penjelasan singkat terkait arsitektur yang digunakan\n",
    "    - Persiapan model menggunakan \"compile\" dan fitting model\n",
    "    - Evaluasi model seperti machine learning pada umumnya\n",
    "\n",
    "    Hasil report analysis yang telah dikerjakan, silahkan diunggah ke dalam salah satu situs publikasi pilihan Bapak/Ibu (Github / Rpubs / Kaggle Kernel / Website pribadi), kemudian silahkan mencantumkan linknya saat melakukan Submit LBB. Link kepada situs publikasi pilihan Bapak/Ibu akan kami cantumkan pada CV Algoritma yang akan kami buatkan sebagai salah satu bagian dari Algoritma Career Support. Kami akan memberikan feedback terkait pekerjaan Bapak/Ibu yang mengumpulkan modul Learn by Building ini mengenai hal-hal yang dirasa bisa dikembangkan.\n",
    "\n",
    "    Jika ada pertanyaan yang ingin Bapak/Ibu tanyakan, silahkan dikirim ke mentor@algorit.ma. Kami akan dengan senang hati membantu.\n",
    "\n",
    "    Terima kasih dan good luck!''',\n",
    "    'workType': 'ASSIGNMENT',\n",
    "    'state': 'DRAFT',\n",
    "    'topicId' : '617017495975'\n",
    "}\n",
    "coursework = service.courses().courseWork().create(\n",
    "    courseId=course_id, body=coursework).execute()\n",
    "print(f\"Assignment created with ID {coursework.get('id')}\")"
   ]
  },
  {
   "cell_type": "markdown",
   "metadata": {},
   "source": [
    "# Administration Deck"
   ]
  },
  {
   "cell_type": "code",
   "execution_count": 41,
   "metadata": {},
   "outputs": [],
   "source": [
    "from assets import Classwork\n",
    "\n",
    "description = Classwork()"
   ]
  },
  {
   "cell_type": "code",
   "execution_count": 14,
   "metadata": {},
   "outputs": [
    {
     "data": {
      "text/plain": [
       "{'courseId': '616952989203',\n",
       " 'topicId': '617018691211',\n",
       " 'name': 'Administration Deck',\n",
       " 'updateTime': '2023-08-01T04:33:47.411Z'}"
      ]
     },
     "execution_count": 14,
     "metadata": {},
     "output_type": "execute_result"
    }
   ],
   "source": [
    "for topic in topics:\n",
    "    if topic['name'] == 'Administration Deck':\n",
    "        break \n",
    "\n",
    "topic"
   ]
  },
  {
   "cell_type": "code",
   "execution_count": 22,
   "metadata": {},
   "outputs": [
    {
     "name": "stdout",
     "output_type": "stream",
     "text": [
      "Material Permohonan Sesi Mentoring created\n"
     ]
    }
   ],
   "source": [
    "coursework = {\n",
    "    'title': 'Permohonan Sesi Mentoring',\n",
    "    'description': description.administration_deck['Permohonan Sesi Mentoring'],\n",
    "    'materials': [\n",
    "        {'link': {'url': 'http://bit.ly/mentoring-onsite?authuser=0'}},\n",
    "        {'link': {'url': 'https://github.com/teamalgoritma/community?authuser=0'}},\n",
    "        {'link': {'url': 'https://drive.google.com/file/d/1SuU3e8hg9jfMO25kWang1MIaaePa2x-Y/view?usp=drive_web&authuser=0'}},\n",
    "    ],\n",
    "    'topicId' : topic['topicId'],\n",
    "    'state' : 'DRAFT'\n",
    "}\n",
    "coursework = service.courses().courseWorkMaterials().create(\n",
    "    courseId=course_id, body=coursework).execute()\n",
    "\n",
    "print(f\"Material {coursework.get('title')} created\")"
   ]
  },
  {
   "cell_type": "code",
   "execution_count": 23,
   "metadata": {},
   "outputs": [
    {
     "name": "stdout",
     "output_type": "stream",
     "text": [
      "Material How to Ask Questions created\n"
     ]
    }
   ],
   "source": [
    "coursework = {\n",
    "    'title': 'How to Ask Questions',\n",
    "    'description': description.administration_deck['How to Ask Questions'],\n",
    "    'materials': [\n",
    "        {'link': {'url': 'https://github.com/teamalgoritma/community?authuser=0'}},\n",
    "    ],\n",
    "    'topicId' : topic['topicId'],\n",
    "    'state' : 'DRAFT'\n",
    "}\n",
    "coursework = service.courses().courseWorkMaterials().create(\n",
    "    courseId=course_id, body=coursework).execute()\n",
    "\n",
    "print(f\"Material {coursework.get('title')} created\")"
   ]
  },
  {
   "cell_type": "code",
   "execution_count": 24,
   "metadata": {},
   "outputs": [
    {
     "name": "stdout",
     "output_type": "stream",
     "text": [
      "Material Administration Deck created\n"
     ]
    }
   ],
   "source": [
    "coursework = {\n",
    "    'title': 'Administration Deck',\n",
    "    'description': description.administration_deck['Administration Deck'],\n",
    "    'materials': [\n",
    "        {'link': {'url': 'https://drive.google.com/file/d/1ivjryti41IekS55HSj43bC8TXLaZZrii/view?usp=drive_web&authuser=0'}},\n",
    "        {'link': {'url': 'https://drive.google.com/file/d/1vUG9v_Aie-aHW4U93FD7LKcjfxilHG5u/view?usp=drive_web&authuser=0'}}\n",
    "    ],\n",
    "    'topicId' : topic['topicId'],\n",
    "    'state' : 'DRAFT'\n",
    "}\n",
    "coursework = service.courses().courseWorkMaterials().create(\n",
    "    courseId=course_id, body=coursework).execute()\n",
    "\n",
    "print(f\"Material {coursework.get('title')} created\")"
   ]
  },
  {
   "cell_type": "markdown",
   "metadata": {},
   "source": [
    "# Material"
   ]
  },
  {
   "cell_type": "code",
   "execution_count": 25,
   "metadata": {},
   "outputs": [
    {
     "data": {
      "text/plain": [
       "{'courseId': '616952989203',\n",
       " 'topicId': '617017450722',\n",
       " 'name': 'Material',\n",
       " 'updateTime': '2023-08-01T04:33:45.732Z'}"
      ]
     },
     "execution_count": 25,
     "metadata": {},
     "output_type": "execute_result"
    }
   ],
   "source": [
    "for topic in topics:\n",
    "    if topic['name'] == 'Material':\n",
    "        break \n",
    "\n",
    "topic"
   ]
  },
  {
   "cell_type": "code",
   "execution_count": 26,
   "metadata": {},
   "outputs": [
    {
     "name": "stdout",
     "output_type": "stream",
     "text": [
      "Material 4. M : Interactive Plotting (IP) created\n"
     ]
    }
   ],
   "source": [
    "coursework = {\n",
    "    'title': '4. M : Interactive Plotting (IP)',\n",
    "    'materials': [\n",
    "        {'link': {'url': 'https://bit.ly/ip_material?authuser=0'}},\n",
    "    ],\n",
    "    'topicId' : topic['topicId'],\n",
    "    'state' : 'DRAFT'\n",
    "}\n",
    "coursework = service.courses().courseWorkMaterials().create(\n",
    "    courseId=course_id, body=coursework).execute()\n",
    "\n",
    "print(f\"Material {coursework.get('title')} created\")"
   ]
  },
  {
   "cell_type": "code",
   "execution_count": 27,
   "metadata": {},
   "outputs": [
    {
     "name": "stdout",
     "output_type": "stream",
     "text": [
      "Material 3. M : Data Visualization (DV) created\n"
     ]
    }
   ],
   "source": [
    "coursework = {\n",
    "    'title': '3. M : Data Visualization (DV)',\n",
    "    'materials': [\n",
    "        {'link': {'url': 'https://bit.ly/dviz_material?authuser=0'}},\n",
    "    ],\n",
    "    'topicId' : topic['topicId'],\n",
    "    'state' : 'DRAFT'\n",
    "}\n",
    "coursework = service.courses().courseWorkMaterials().create(\n",
    "    courseId=course_id, body=coursework).execute()\n",
    "\n",
    "print(f\"Material {coursework.get('title')} created\")"
   ]
  },
  {
   "cell_type": "code",
   "execution_count": 28,
   "metadata": {},
   "outputs": [
    {
     "name": "stdout",
     "output_type": "stream",
     "text": [
      "Material 2. M : Practical Statistics (PS) created\n"
     ]
    }
   ],
   "source": [
    "coursework = {\n",
    "    'title': '2. M : Practical Statistics (PS)',\n",
    "    'materials': [\n",
    "        {'link': {'url': 'https://bit.ly/ps_material?authuser=0'}},\n",
    "    ],\n",
    "    'topicId' : topic['topicId'],\n",
    "    'state' : 'DRAFT'\n",
    "}\n",
    "coursework = service.courses().courseWorkMaterials().create(\n",
    "    courseId=course_id, body=coursework).execute()\n",
    "\n",
    "print(f\"Material {coursework.get('title')} created\")"
   ]
  },
  {
   "cell_type": "code",
   "execution_count": 29,
   "metadata": {},
   "outputs": [
    {
     "name": "stdout",
     "output_type": "stream",
     "text": [
      "Material 1. M : Programming for Data Science (P4DS) created\n"
     ]
    }
   ],
   "source": [
    "coursework = {\n",
    "    'title': '1. M : Programming for Data Science (P4DS)',\n",
    "    'materials': [\n",
    "        {'link': {'url': 'https://bit.ly/p4ds_material?authuser=0'}},\n",
    "    ],\n",
    "    'topicId' : topic['topicId'],\n",
    "    'state' : 'DRAFT'\n",
    "}\n",
    "coursework = service.courses().courseWorkMaterials().create(\n",
    "    courseId=course_id, body=coursework).execute()\n",
    "\n",
    "print(f\"Material {coursework.get('title')} created\")"
   ]
  },
  {
   "cell_type": "markdown",
   "metadata": {},
   "source": [
    "# Quiz"
   ]
  },
  {
   "cell_type": "code",
   "execution_count": 38,
   "metadata": {},
   "outputs": [
    {
     "data": {
      "text/plain": [
       "{'courseId': '616952989203',\n",
       " 'topicId': '617018677370',\n",
       " 'name': 'Quiz',\n",
       " 'updateTime': '2023-08-01T04:33:40.769Z'}"
      ]
     },
     "execution_count": 38,
     "metadata": {},
     "output_type": "execute_result"
    }
   ],
   "source": [
    "for topic in topics:\n",
    "    if topic['name'] == 'Quiz':\n",
    "        break \n",
    "\n",
    "topic"
   ]
  },
  {
   "cell_type": "code",
   "execution_count": 42,
   "metadata": {},
   "outputs": [
    {
     "ename": "AttributeError",
     "evalue": "'Classwork' object has no attribute 'quiz'",
     "output_type": "error",
     "traceback": [
      "\u001b[1;31m---------------------------------------------------------------------------\u001b[0m",
      "\u001b[1;31mAttributeError\u001b[0m                            Traceback (most recent call last)",
      "Cell \u001b[1;32mIn[42], line 3\u001b[0m\n\u001b[0;32m      1\u001b[0m coursework \u001b[39m=\u001b[39m {\n\u001b[0;32m      2\u001b[0m     \u001b[39m'\u001b[39m\u001b[39mtitle\u001b[39m\u001b[39m'\u001b[39m: \u001b[39m'\u001b[39m\u001b[39m3. Q: Interactive Plotting (IP)\u001b[39m\u001b[39m'\u001b[39m,\n\u001b[1;32m----> 3\u001b[0m     \u001b[39m'\u001b[39m\u001b[39mdescription\u001b[39m\u001b[39m'\u001b[39m: description\u001b[39m.\u001b[39;49mquiz[\u001b[39m'\u001b[39m\u001b[39m3. Q: Interactive Plotting (IP)\u001b[39m\u001b[39m'\u001b[39m],\n\u001b[0;32m      4\u001b[0m     \u001b[39m'\u001b[39m\u001b[39mmaterials\u001b[39m\u001b[39m'\u001b[39m: [\n\u001b[0;32m      5\u001b[0m         {\u001b[39m'\u001b[39m\u001b[39mlink\u001b[39m\u001b[39m'\u001b[39m: {\u001b[39m'\u001b[39m\u001b[39murl\u001b[39m\u001b[39m'\u001b[39m: \u001b[39m'\u001b[39m\u001b[39mhttps://algoritmaonline.com/quizzes/interactive-plotting-quiz/?authuser=0\u001b[39m\u001b[39m'\u001b[39m}}\n\u001b[0;32m      6\u001b[0m     ],\n\u001b[0;32m      7\u001b[0m     \u001b[39m'\u001b[39m\u001b[39mtopicId\u001b[39m\u001b[39m'\u001b[39m : topic[\u001b[39m'\u001b[39m\u001b[39mtopicId\u001b[39m\u001b[39m'\u001b[39m],\n\u001b[0;32m      8\u001b[0m     \u001b[39m'\u001b[39m\u001b[39mworkType\u001b[39m\u001b[39m'\u001b[39m: \u001b[39m'\u001b[39m\u001b[39mASSIGNMENT\u001b[39m\u001b[39m'\u001b[39m,\n\u001b[0;32m      9\u001b[0m     \u001b[39m'\u001b[39m\u001b[39mmaxPoints\u001b[39m\u001b[39m'\u001b[39m: \u001b[39m1\u001b[39m,\n\u001b[0;32m     10\u001b[0m     \u001b[39m'\u001b[39m\u001b[39mstate\u001b[39m\u001b[39m'\u001b[39m : \u001b[39m'\u001b[39m\u001b[39mDRAFT\u001b[39m\u001b[39m'\u001b[39m\n\u001b[0;32m     11\u001b[0m }\n\u001b[0;32m     12\u001b[0m coursework \u001b[39m=\u001b[39m service\u001b[39m.\u001b[39mcourses()\u001b[39m.\u001b[39mcourseWork()\u001b[39m.\u001b[39mcreate(\n\u001b[0;32m     13\u001b[0m     courseId\u001b[39m=\u001b[39mcourse_id, body\u001b[39m=\u001b[39mcoursework)\u001b[39m.\u001b[39mexecute()\n\u001b[0;32m     15\u001b[0m \u001b[39mprint\u001b[39m(\u001b[39mf\u001b[39m\u001b[39m\"\u001b[39m\u001b[39mAssignment \u001b[39m\u001b[39m{\u001b[39;00mcoursework\u001b[39m.\u001b[39mget(\u001b[39m'\u001b[39m\u001b[39mtitle\u001b[39m\u001b[39m'\u001b[39m)\u001b[39m}\u001b[39;00m\u001b[39m created\u001b[39m\u001b[39m\"\u001b[39m)\n",
      "\u001b[1;31mAttributeError\u001b[0m: 'Classwork' object has no attribute 'quiz'"
     ]
    }
   ],
   "source": [
    "coursework = {\n",
    "    'title': '3. Q: Interactive Plotting (IP)',\n",
    "    'description': description.quiz['3. Q: Interactive Plotting (IP)'],\n",
    "    'materials': [\n",
    "        {'link': {'url': 'https://algoritmaonline.com/quizzes/interactive-plotting-quiz/?authuser=0'}}\n",
    "    ],\n",
    "    'topicId' : topic['topicId'],\n",
    "    'workType': 'ASSIGNMENT',\n",
    "    'maxPoints': 1,\n",
    "    'state' : 'DRAFT'\n",
    "}\n",
    "coursework = service.courses().courseWork().create(\n",
    "    courseId=course_id, body=coursework).execute()\n",
    "\n",
    "print(f\"Assignment {coursework.get('title')} created\")"
   ]
  }
 ],
 "metadata": {
  "kernelspec": {
   "display_name": "classroom",
   "language": "python",
   "name": "python3"
  },
  "language_info": {
   "codemirror_mode": {
    "name": "ipython",
    "version": 3
   },
   "file_extension": ".py",
   "mimetype": "text/x-python",
   "name": "python",
   "nbconvert_exporter": "python",
   "pygments_lexer": "ipython3",
   "version": "3.10.12"
  },
  "orig_nbformat": 4
 },
 "nbformat": 4,
 "nbformat_minor": 2
}
